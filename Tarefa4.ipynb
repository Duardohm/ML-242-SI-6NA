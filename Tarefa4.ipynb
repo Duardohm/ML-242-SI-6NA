{
  "nbformat": 4,
  "nbformat_minor": 0,
  "metadata": {
    "colab": {
      "provenance": []
    },
    "kernelspec": {
      "name": "python3",
      "display_name": "Python 3"
    },
    "language_info": {
      "name": "python"
    }
  },
  "cells": [
    {
      "cell_type": "code",
      "execution_count": null,
      "metadata": {
        "id": "qrWsK7wP0gDm"
      },
      "outputs": [],
      "source": []
    },
    {
      "cell_type": "markdown",
      "source": [
        "# Validação Cruzada com KNN no Conjunto de Dados de Vinhos\n",
        "Este notebook utiliza o método **k-fold cross-validation** com o classificador **K-Nearest Neighbors (KNN)** para avaliar o desempenho do modelo com diferentes valores de `k` e `random_state`.\n",
        "\n",
        "### Objetivos:\n",
        "1. Avaliar o impacto de diferentes valores de `k` (3 e 5) na acurácia.\n",
        "2. Explorar como diferentes valores de `random_state` influenciam os resultados.\n",
        "3. Aplicar validação cruzada para obter métricas robustas de avaliação.\n"
      ],
      "metadata": {
        "id": "7wECoEDe0tE8"
      }
    },
    {
      "cell_type": "code",
      "source": [
        "#Importação das bibliotecas\n",
        "\n",
        "import pandas as pd\n",
        "from sklearn.model_selection import KFold\n",
        "from sklearn.neighbors import KNeighborsClassifier\n",
        "from sklearn.metrics import accuracy_score\n",
        "import numpy as np\n"
      ],
      "metadata": {
        "id": "SNj2SL9I0yds"
      },
      "execution_count": 2,
      "outputs": []
    },
    {
      "cell_type": "code",
      "source": [
        "#Carregamento e pré-processamento de dados\n",
        "# URL do dataset Wine\n",
        "url = 'https://archive.ics.uci.edu/ml/machine-learning-databases/wine/wine.data'\n",
        "\n",
        "# Nome das colunas em português BR\n",
        "column_names_pt_br = [\n",
        "    'classe',\n",
        "    'alcool',\n",
        "    'acido_malico',\n",
        "    'cinzas',\n",
        "    'alcalinidade_de_cinzas',\n",
        "    'magnesio',\n",
        "    'fenois_totais',\n",
        "    'flavanoides',\n",
        "    'fenois_nao_flavanoides',\n",
        "    'proantocianinas',\n",
        "    'intensidade_de_cor',\n",
        "    'matiz',\n",
        "    'od280_od315_de_vinhos_diluidos',\n",
        "    'prolina'\n",
        "]\n",
        "\n",
        "# Carregar os dados\n",
        "vinhos = pd.read_csv(url, names=column_names_pt_br, dtype={'classe': object})\n",
        "\n",
        "# Separação das variáveis\n",
        "X = vinhos.drop('classe', axis=1)  # Variáveis preditoras\n",
        "y = vinhos['classe']              # Variável alvo\n"
      ],
      "metadata": {
        "id": "taJvC7KL011Q"
      },
      "execution_count": 3,
      "outputs": []
    },
    {
      "cell_type": "code",
      "source": [
        "#Função de K-Fold Cross-Validation\n",
        "def kfold_validation(X, y, k_values, random_states, n_splits=10):\n",
        "    resultados = []\n",
        "\n",
        "    for random_state in random_states:\n",
        "        print(f\"\\n== Random State: {random_state} ==\")\n",
        "        # Configuração do KFold\n",
        "        kf = KFold(n_splits=n_splits, shuffle=True, random_state=random_state)\n",
        "\n",
        "        for k in k_values:\n",
        "            acuracias = []  # Lista para armazenar as acurácias de cada fold\n",
        "\n",
        "            for train_index, test_index in kf.split(X):\n",
        "                # Separação dos dados em treino e teste para cada fold\n",
        "                X_train, X_test = X.iloc[train_index], X.iloc[test_index]\n",
        "                y_train, y_test = y.iloc[train_index], y.iloc[test_index]\n",
        "\n",
        "                # Treinamento do modelo KNN\n",
        "                knn = KNeighborsClassifier(n_neighbors=k)\n",
        "                knn.fit(X_train, y_train)\n",
        "\n",
        "                # Previsão e avaliação\n",
        "                y_pred = knn.predict(X_test)\n",
        "                accuracy = accuracy_score(y_test, y_pred)\n",
        "                acuracias.append(accuracy)\n",
        "\n",
        "            # Calcula média e desvio padrão das acurácias\n",
        "            media = np.mean(acuracias)\n",
        "            desvio = np.std(acuracias)\n",
        "            resultados.append({'random_state': random_state, 'k': k, 'media': media, 'desvio': desvio})\n",
        "\n",
        "            print(f\"k={k}, Média da Acurácia: {media:.4f}, Desvio Padrão: {desvio:.4f}\")\n",
        "\n",
        "    return pd.DataFrame(resultados)\n"
      ],
      "metadata": {
        "id": "-wqj9nJx06ob"
      },
      "execution_count": 4,
      "outputs": []
    },
    {
      "cell_type": "code",
      "source": [
        "#Execução do experimento\n",
        "\n",
        "# Configuração dos valores de k e random_state\n",
        "k_values = [3, 5]\n",
        "random_states = [42, 17, 24]\n",
        "\n",
        "# Executa a validação cruzada\n",
        "resultados = kfold_validation(X, y, k_values, random_states)\n"
      ],
      "metadata": {
        "colab": {
          "base_uri": "https://localhost:8080/"
        },
        "id": "FOljnIM71CBc",
        "outputId": "b8ea8866-fd31-4f77-aa61-bfbebb0afeb9"
      },
      "execution_count": 5,
      "outputs": [
        {
          "output_type": "stream",
          "name": "stdout",
          "text": [
            "\n",
            "== Random State: 42 ==\n",
            "k=3, Média da Acurácia: 0.7036, Desvio Padrão: 0.1392\n",
            "k=5, Média da Acurácia: 0.6641, Desvio Padrão: 0.1001\n",
            "\n",
            "== Random State: 17 ==\n",
            "k=3, Média da Acurácia: 0.6987, Desvio Padrão: 0.1040\n",
            "k=5, Média da Acurácia: 0.6876, Desvio Padrão: 0.1121\n",
            "\n",
            "== Random State: 24 ==\n",
            "k=3, Média da Acurácia: 0.7127, Desvio Padrão: 0.0968\n",
            "k=5, Média da Acurácia: 0.7127, Desvio Padrão: 0.0940\n"
          ]
        }
      ]
    },
    {
      "cell_type": "code",
      "source": [
        "#Análise Final\n",
        "\n",
        "# Melhor configuração por random_state\n",
        "print(\"\\n== Análise Final ==\")\n",
        "for random_state in random_states:\n",
        "    subset = resultados[resultados['random_state'] == random_state]\n",
        "    melhor_k = subset.loc[subset['media'].idxmax()]\n",
        "    print(f\"Random State: {random_state}, Melhor k: {melhor_k['k']}, Média: {melhor_k['media']:.4f}, Desvio: {melhor_k['desvio']:.4f}\")\n"
      ],
      "metadata": {
        "colab": {
          "base_uri": "https://localhost:8080/"
        },
        "id": "nfdF0gPI1Gu8",
        "outputId": "44ebd51e-ab91-4c3b-e89e-b205561a5ab2"
      },
      "execution_count": 6,
      "outputs": [
        {
          "output_type": "stream",
          "name": "stdout",
          "text": [
            "\n",
            "== Análise Final ==\n",
            "Random State: 42, Melhor k: 3.0, Média: 0.7036, Desvio: 0.1392\n",
            "Random State: 17, Melhor k: 3.0, Média: 0.6987, Desvio: 0.1040\n",
            "Random State: 24, Melhor k: 3.0, Média: 0.7127, Desvio: 0.0968\n"
          ]
        }
      ]
    }
  ]
}