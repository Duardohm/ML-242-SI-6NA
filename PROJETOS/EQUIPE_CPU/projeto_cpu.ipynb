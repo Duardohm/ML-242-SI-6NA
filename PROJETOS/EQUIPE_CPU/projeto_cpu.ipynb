{
 "cells": [
  {
   "cell_type": "markdown",
   "metadata": {},
   "source": [
    "# Tecnica Árvore de Decisão para Regressão"
   ]
  },
  {
   "cell_type": "markdown",
   "metadata": {},
   "source": [
    "Download do Dataset\n",
    "Objetivo: Obter o dataset necessário para análise e modelagem. Este é o passo inicial que permite termos acesso aos dados."
   ]
  },
  {
   "cell_type": "code",
   "execution_count": 48,
   "metadata": {},
   "outputs": [
    {
     "name": "stdout",
     "output_type": "stream",
     "text": [
      "Warning: Looks like you're using an outdated `kagglehub` version, please consider updating (latest version: 0.3.4)\n",
      "Path to dataset files: C:\\Users\\jonas\\.cache\\kagglehub\\datasets\\iliassekkaf\\computerparts\\versions\\7\n"
     ]
    }
   ],
   "source": [
    "import kagglehub\n",
    "\n",
    "# Fazer o download da versão mais recente do dataset\n",
    "path = kagglehub.dataset_download(\"iliassekkaf/computerparts\")\n",
    "\n",
    "# Verificar o caminho dos arquivos do dataset\n",
    "print(\"Path to dataset files:\", path)\n"
   ]
  },
  {
   "cell_type": "markdown",
   "metadata": {},
   "source": [
    "Listar os Arquivos no Diretório.\n",
    "Objetivo: Verificar o conteúdo do diretório especificado pela variável path para garantir que os arquivos necessários estão presentes antes de prosseguir com outras operações. Isso é útil para visualizar os arquivos disponíveis no diretório e confirmar que o download foi bem-sucedido."
   ]
  },
  {
   "cell_type": "code",
   "execution_count": 49,
   "metadata": {},
   "outputs": [
    {
     "name": "stdout",
     "output_type": "stream",
     "text": [
      "Arquivos no diretório:\n",
      "All_GPUs.csv\n",
      "Intel_CPUs.csv\n"
     ]
    }
   ],
   "source": [
    "import os\n",
    "\n",
    "# Listar todos os arquivos no diretório especificado\n",
    "files = os.listdir(path)\n",
    "print(\"Arquivos no diretório:\")\n",
    "for file in files:\n",
    "    print(file)\n"
   ]
  },
  {
   "cell_type": "markdown",
   "metadata": {},
   "source": [
    "Carregamento dos Dados\n",
    "\n",
    "Objetivo: Carregar os dados em um formato manipulável usando a biblioteca pandas para análise e pré-processamento. Isso nos ajuda a visualizar e entender a estrutura dos dados.\n",
    "\n"
   ]
  },
  {
   "cell_type": "code",
   "execution_count": 50,
   "metadata": {},
   "outputs": [
    {
     "name": "stdout",
     "output_type": "stream",
     "text": [
      "Primeiras linhas do dataset:\n",
      "                          Product_Collection Vertical_Segment  \\\n",
      "0  7th Generation Intel® Core™ i7 Processors           Mobile   \n",
      "1  8th Generation Intel® Core™ i5 Processors           Mobile   \n",
      "2  8th Generation Intel® Core™ i7 Processors           Mobile   \n",
      "3           Intel® Core™ X-series Processors          Desktop   \n",
      "4  7th Generation Intel® Core™ i5 Processors           Mobile   \n",
      "\n",
      "  Processor_Number       Status Launch_Date Lithography  \\\n",
      "0          i7-7Y75     Launched       Q3'16       14 nm   \n",
      "1         i5-8250U     Launched       Q3'17       14 nm   \n",
      "2         i7-8550U     Launched       Q3'17       14 nm   \n",
      "3          i7-3820  End of Life       Q1'12       32 nm   \n",
      "4          i5-7Y57     Launched       Q1'17       14 nm   \n",
      "\n",
      "  Recommended_Customer_Price  nb_of_Cores  nb_of_Threads  \\\n",
      "0                   $393.00             2            4.0   \n",
      "1                   $297.00             4            8.0   \n",
      "2                   $409.00             4            8.0   \n",
      "3                   $305.00             4            8.0   \n",
      "4                   $281.00             2            4.0   \n",
      "\n",
      "  Processor_Base_Frequency  ...       T Intel_Hyper_Threading_Technology_  \\\n",
      "0                 1.30 GHz  ...   100°C                               Yes   \n",
      "1                 1.60 GHz  ...   100°C                               Yes   \n",
      "2                 1.80 GHz  ...   100°C                               Yes   \n",
      "3                 3.60 GHz  ...  66.8°C                               Yes   \n",
      "4                 1.20 GHz  ...   100°C                               Yes   \n",
      "\n",
      "  Intel_Virtualization_Technology_VTx_ Intel_64_ Instruction_Set  \\\n",
      "0                                  Yes       Yes          64-bit   \n",
      "1                                  Yes       Yes          64-bit   \n",
      "2                                  Yes       Yes          64-bit   \n",
      "3                                  Yes       Yes          64-bit   \n",
      "4                                  Yes       Yes          64-bit   \n",
      "\n",
      "  Instruction_Set_Extensions Idle_States Thermal_Monitoring_Technologies  \\\n",
      "0        SSE4.1/4.2, AVX 2.0         Yes                             Yes   \n",
      "1        SSE4.1/4.2, AVX 2.0         Yes                             Yes   \n",
      "2        SSE4.1/4.2, AVX 2.0         Yes                             Yes   \n",
      "3           SSE4.2, AVX, AES         Yes                             Yes   \n",
      "4        SSE4.1/4.2, AVX 2.0         Yes                             Yes   \n",
      "\n",
      "   Secure_Key Execute_Disable_Bit  \n",
      "0         Yes                 Yes  \n",
      "1         Yes                 Yes  \n",
      "2         Yes                 Yes  \n",
      "3         NaN                 Yes  \n",
      "4         Yes                 Yes  \n",
      "\n",
      "[5 rows x 45 columns]\n"
     ]
    }
   ],
   "source": [
    "import pandas as pd\n",
    "\n",
    "# Definir o nome do arquivo CSV com base na listagem anterior\n",
    "dataset_file_name = \"Intel_CPUs.csv\"\n",
    "dataset_path = os.path.join(path, dataset_file_name)\n",
    "\n",
    "# Carregar os dados em um DataFrame do pandas\n",
    "df = pd.read_csv(dataset_path)\n",
    "\n",
    "# Exibir as primeiras linhas do dataset para verificação\n",
    "print(\"Primeiras linhas do dataset:\")\n",
    "print(df.head())\n"
   ]
  },
  {
   "cell_type": "markdown",
   "metadata": {},
   "source": [
    "Pré-processamento dos Dados\n",
    "\n",
    "Objetivo: Converter valores de frequência de string (por exemplo, 3.40 GHz) para float, permitindo que o modelo de aprendizado de máquina utilize essas informações corretamente. Além disso, remover linhas com valores ausentes na coluna Processor_Base_Frequency garante que o conjunto de dados esteja limpo e pronto para análise."
   ]
  },
  {
   "cell_type": "code",
   "execution_count": 57,
   "metadata": {},
   "outputs": [
    {
     "name": "stdout",
     "output_type": "stream",
     "text": [
      "Primeiras linhas após o pré-processamento:\n",
      "                          Product_Collection Vertical_Segment  \\\n",
      "0  7th Generation Intel® Core™ i7 Processors           Mobile   \n",
      "1  8th Generation Intel® Core™ i5 Processors           Mobile   \n",
      "2  8th Generation Intel® Core™ i7 Processors           Mobile   \n",
      "3           Intel® Core™ X-series Processors          Desktop   \n",
      "4  7th Generation Intel® Core™ i5 Processors           Mobile   \n",
      "\n",
      "  Processor_Number       Status Launch_Date Lithography  \\\n",
      "0          i7-7Y75     Launched       Q3'16       14 nm   \n",
      "1         i5-8250U     Launched       Q3'17       14 nm   \n",
      "2         i7-8550U     Launched       Q3'17       14 nm   \n",
      "3          i7-3820  End of Life       Q1'12       32 nm   \n",
      "4          i5-7Y57     Launched       Q1'17       14 nm   \n",
      "\n",
      "   Recommended_Customer_Price  nb_of_Cores  nb_of_Threads  \\\n",
      "0                       393.0            2            4.0   \n",
      "1                       297.0            4            8.0   \n",
      "2                       409.0            4            8.0   \n",
      "3                       305.0            4            8.0   \n",
      "4                       281.0            2            4.0   \n",
      "\n",
      "   Processor_Base_Frequency  ...       T Intel_Hyper_Threading_Technology_  \\\n",
      "0                       1.3  ...   100°C                               Yes   \n",
      "1                       1.6  ...   100°C                               Yes   \n",
      "2                       1.8  ...   100°C                               Yes   \n",
      "3                       3.6  ...  66.8°C                               Yes   \n",
      "4                       1.2  ...   100°C                               Yes   \n",
      "\n",
      "  Intel_Virtualization_Technology_VTx_ Intel_64_ Instruction_Set  \\\n",
      "0                                  Yes       Yes          64-bit   \n",
      "1                                  Yes       Yes          64-bit   \n",
      "2                                  Yes       Yes          64-bit   \n",
      "3                                  Yes       Yes          64-bit   \n",
      "4                                  Yes       Yes          64-bit   \n",
      "\n",
      "  Instruction_Set_Extensions Idle_States Thermal_Monitoring_Technologies  \\\n",
      "0        SSE4.1/4.2, AVX 2.0         Yes                             Yes   \n",
      "1        SSE4.1/4.2, AVX 2.0         Yes                             Yes   \n",
      "2        SSE4.1/4.2, AVX 2.0         Yes                             Yes   \n",
      "3           SSE4.2, AVX, AES         Yes                             Yes   \n",
      "4        SSE4.1/4.2, AVX 2.0         Yes                             Yes   \n",
      "\n",
      "   Secure_Key Execute_Disable_Bit  \n",
      "0         Yes                 Yes  \n",
      "1         Yes                 Yes  \n",
      "2         Yes                 Yes  \n",
      "3         NaN                 Yes  \n",
      "4         Yes                 Yes  \n",
      "\n",
      "[5 rows x 45 columns]\n"
     ]
    }
   ],
   "source": [
    "# Função para converter frequências de string para float\n",
    "def convert_ghz_to_float(frequency):\n",
    "    if isinstance(frequency, str):\n",
    "        try:\n",
    "            return float(frequency.replace(' GHz', '').replace(',', '.'))\n",
    "        except ValueError:\n",
    "            return None  # Retornar None se a conversão falhar\n",
    "    return frequency\n",
    "\n",
    "# Aplicar a função na coluna 'Processor_Base_Frequency'\n",
    "df['Processor_Base_Frequency'] = df['Processor_Base_Frequency'].apply(convert_ghz_to_float)\n",
    "\n",
    "# Remover linhas com valores ausentes na coluna 'Processor_Base_Frequency'\n",
    "df = df.dropna(subset=['Processor_Base_Frequency'])\n",
    "\n",
    "# Exibir as primeiras linhas após o pré-processamento para verificação\n",
    "print(\"Primeiras linhas após o pré-processamento:\")\n",
    "print(df.head())\n"
   ]
  },
  {
   "cell_type": "markdown",
   "metadata": {},
   "source": [
    "Divisão dos Dados em Treinamento e Teste\n",
    "\n",
    "Objetivo: Separar os dados em dois conjuntos: um para treinar o modelo (`X_train` e `y_train`) e outro para avaliar seu desempenho (`X_test` e `y_test`). Isso garante que o modelo possa ser validado em dados que ele não viu durante o treinamento, proporcionando uma avaliação justa e evitando overfitting."
   ]
  },
  {
   "cell_type": "code",
   "execution_count": 62,
   "metadata": {},
   "outputs": [
    {
     "name": "stdout",
     "output_type": "stream",
     "text": [
      "Quantidade de dados no conjunto de treinamento: 1027\n",
      "Quantidade de dados no conjunto de teste: 257\n",
      "\n",
      "Primeiras linhas do conjunto de treinamento (X_train):\n",
      "                             Product_Collection Vertical_Segment  \\\n",
      "1384  4th Generation Intel® Core™ i5 Processors          Desktop   \n",
      "1546             Legacy Intel® Core™ Processors          Desktop   \n",
      "2062           Legacy Intel® Celeron® Processor           Mobile   \n",
      "2268  6th Generation Intel® Core™ i3 Processors          Desktop   \n",
      "440            Intel® Core™ X-series Processors           Mobile   \n",
      "\n",
      "     Processor_Number                      Status Launch_Date Lithography  \\\n",
      "1384         i5-4590S                    Launched       Q2'14       22 nm   \n",
      "1546            E7400  End of Interactive Support       Q1'08       45 nm   \n",
      "2062            P4500  End of Interactive Support       Q1'10       32 nm   \n",
      "2268          i3-6100                    Launched       Q3'15       14 nm   \n",
      "440         i7-3920XM                    Launched       Q2'12       22 nm   \n",
      "\n",
      "      nb_of_Cores  nb_of_Threads  Processor_Base_Frequency  \\\n",
      "1384            4            4.0                      3.00   \n",
      "1546            2            NaN                      2.80   \n",
      "2062            2            2.0                      1.86   \n",
      "2268            2            4.0                      3.70   \n",
      "440             4            8.0                      2.90   \n",
      "\n",
      "     Max_Turbo_Frequency  ...        T Intel_Hyper_Threading_Technology_  \\\n",
      "1384            3.70 GHz  ...  71.35°C                                No   \n",
      "1546                 NaN  ...   74.1°C                                No   \n",
      "2062                 NaN  ...     90°C                                No   \n",
      "2268                 NaN  ...     65°C                               Yes   \n",
      "440             3.80 GHz  ...    105 C                               Yes   \n",
      "\n",
      "     Intel_Virtualization_Technology_VTx_ Intel_64_ Instruction_Set  \\\n",
      "1384                                  Yes       Yes          64-bit   \n",
      "1546                    See Ordering Info       Yes          64-bit   \n",
      "2062                                  Yes       Yes          64-bit   \n",
      "2268                                  Yes       Yes          64-bit   \n",
      "440                                   Yes       Yes          64-bit   \n",
      "\n",
      "     Instruction_Set_Extensions Idle_States  Thermal_Monitoring_Technologies  \\\n",
      "1384        SSE4.1/4.2, AVX 2.0         Yes                              Yes   \n",
      "1546                        NaN         Yes                              Yes   \n",
      "2062                        NaN         Yes                              Yes   \n",
      "2268        SSE4.1/4.2, AVX 2.0         Yes                              Yes   \n",
      "440                         AVX         Yes                              Yes   \n",
      "\n",
      "     Secure_Key Execute_Disable_Bit  \n",
      "1384        Yes                 Yes  \n",
      "1546        NaN                 Yes  \n",
      "2062        NaN                 Yes  \n",
      "2268        Yes                 Yes  \n",
      "440         NaN                 Yes  \n",
      "\n",
      "[5 rows x 44 columns]\n",
      "\n",
      "Primeiras linhas do conjunto de teste (X_test):\n",
      "                             Product_Collection Vertical_Segment  \\\n",
      "2241  6th Generation Intel® Core™ i7 Processors         Embedded   \n",
      "731         Intel® Xeon® Processor E5 v3 Family           Server   \n",
      "1807             Legacy Intel® Core™ Processors          Desktop   \n",
      "813         Intel® Xeon® Processor E5 v2 Family           Server   \n",
      "2195  5th Generation Intel® Core™ i7 Processors           Mobile   \n",
      "\n",
      "     Processor_Number                      Status Launch_Date Lithography  \\\n",
      "2241        i7-6822EQ                    Launched       Q4'15       14 nm   \n",
      "731         E5-2637V3                    Launched       Q3'14       22 nm   \n",
      "1807          i7-990X  End of Interactive Support       Q1'11       32 nm   \n",
      "813         E5-2403V2                    Launched       Q1'14       22 nm   \n",
      "2195         i7-5650U                    Launched       Q1'15       14 nm   \n",
      "\n",
      "      nb_of_Cores  nb_of_Threads  Processor_Base_Frequency  \\\n",
      "2241            4            8.0                      2.00   \n",
      "731             4            8.0                      3.50   \n",
      "1807            6           12.0                      3.46   \n",
      "813             4            4.0                      1.80   \n",
      "2195            2            4.0                      2.20   \n",
      "\n",
      "     Max_Turbo_Frequency  ...       T Intel_Hyper_Threading_Technology_  \\\n",
      "2241            2.80 GHz  ...   100°C                               Yes   \n",
      "731             3.70 GHz  ...  76.6°C                               Yes   \n",
      "1807            3.73 GHz  ...  67.9°C                               Yes   \n",
      "813             1.80 GHz  ...   76°C                                 No   \n",
      "2195            3.10 GHz  ...   105°C                               Yes   \n",
      "\n",
      "     Intel_Virtualization_Technology_VTx_ Intel_64_ Instruction_Set  \\\n",
      "2241                                  Yes       Yes          64-bit   \n",
      "731                                   Yes       Yes          64-bit   \n",
      "1807                                  Yes       Yes          64-bit   \n",
      "813                                   Yes       Yes          64-bit   \n",
      "2195                                  Yes       Yes          64-bit   \n",
      "\n",
      "     Instruction_Set_Extensions Idle_States  Thermal_Monitoring_Technologies  \\\n",
      "2241        SSE4.1/4.2, AVX 2.0         Yes                              Yes   \n",
      "731                     AVX 2.0         Yes                              Yes   \n",
      "1807                     SSE4.2         Yes                               No   \n",
      "813                         AVX         Yes                              Yes   \n",
      "2195        SSE4.1/4.2, AVX 2.0         Yes                              Yes   \n",
      "\n",
      "     Secure_Key Execute_Disable_Bit  \n",
      "2241        Yes                 Yes  \n",
      "731         Yes                 Yes  \n",
      "1807        NaN                 Yes  \n",
      "813         Yes                 Yes  \n",
      "2195        Yes                 Yes  \n",
      "\n",
      "[5 rows x 44 columns]\n"
     ]
    }
   ],
   "source": [
    "from sklearn.model_selection import train_test_split\n",
    "\n",
    "# Definir as features e o target\n",
    "X = df.drop(columns=['Recommended_Customer_Price'])\n",
    "y = df['Recommended_Customer_Price']\n",
    "\n",
    "# Dividir os dados em treinamento e teste\n",
    "X_train, X_test, y_train, y_test = train_test_split(X, y, test_size=0.2, random_state=42)\n",
    "\n",
    "# Mostrar a quantidade de dados em cada conjunto\n",
    "print(\"Quantidade de dados no conjunto de treinamento:\", len(X_train))\n",
    "print(\"Quantidade de dados no conjunto de teste:\", len(X_test))\n",
    "\n",
    "# Mostrar as primeiras linhas dos conjuntos de treinamento e teste\n",
    "print(\"\\nPrimeiras linhas do conjunto de treinamento (X_train):\")\n",
    "print(X_train.head())\n",
    "\n",
    "print(\"\\nPrimeiras linhas do conjunto de teste (X_test):\")\n",
    "print(X_test.head())\n"
   ]
  },
  {
   "cell_type": "markdown",
   "metadata": {},
   "source": [
    "Pré-processamento Adicional\n",
    "\n",
    "Objetivo: Aplicar transformações específicas nas colunas numéricas e categóricas para melhorar o desempenho do modelo.\n",
    "\n",
    "OneHotEncoder para colunas categóricas: Converte variáveis categóricas em uma forma binária que o modelo pode entender, criando novas colunas para cada categoria.\n",
    "\n",
    "StandardScaler para colunas numéricas: Normaliza os dados numéricos para que todos tenham a mesma escala, melhorando a convergência do modelo.\n",
    "\n",
    "ColumnTransformer: Aplica essas transformações de forma consistente e eficiente aos dados de treinamento e teste."
   ]
  },
  {
   "cell_type": "code",
   "execution_count": 59,
   "metadata": {},
   "outputs": [
    {
     "name": "stdout",
     "output_type": "stream",
     "text": [
      "Dados após pré-processamento:\n",
      "<Compressed Sparse Row sparse matrix of dtype 'float64'\n",
      "\twith 7189 stored elements and shape (1027, 83)>\n",
      "  Coords\tValues\n",
      "  (0, 0)\t-0.20524999807868408\n",
      "  (0, 1)\t-0.579966001067254\n",
      "  (0, 2)\t0.7651732725035156\n",
      "  (0, 4)\t1.0\n",
      "  (0, 68)\t1.0\n",
      "  (0, 74)\t1.0\n",
      "  (0, 77)\t1.0\n",
      "  (1, 0)\t-0.5150100980446041\n",
      "  (1, 1)\tnan\n",
      "  (1, 2)\t0.46785839570690896\n",
      "  (1, 65)\t1.0\n",
      "  (1, 68)\t1.0\n",
      "  (1, 72)\t1.0\n",
      "  (1, 79)\t1.0\n",
      "  (2, 0)\t-0.5150100980446041\n",
      "  (2, 1)\t-0.7929959562391212\n",
      "  (2, 2)\t-0.9295215252371409\n",
      "  (2, 64)\t1.0\n",
      "  (2, 70)\t1.0\n",
      "  (2, 72)\t1.0\n",
      "  (2, 78)\t1.0\n",
      "  (3, 0)\t-0.5150100980446041\n",
      "  (3, 1)\t-0.579966001067254\n",
      "  (3, 2)\t1.8057753412916384\n",
      "  (3, 10)\t1.0\n",
      "  :\t:\n",
      "  (1023, 62)\t1.0\n",
      "  (1023, 71)\t1.0\n",
      "  (1023, 74)\t1.0\n",
      "  (1023, 76)\t1.0\n",
      "  (1024, 0)\t1.6533106017168355\n",
      "  (1024, 1)\t2.4024533713388867\n",
      "  (1024, 2)\t-0.7214011114795166\n",
      "  (1024, 62)\t1.0\n",
      "  (1024, 71)\t1.0\n",
      "  (1024, 74)\t1.0\n",
      "  (1024, 76)\t1.0\n",
      "  (1025, 0)\t-0.20524999807868408\n",
      "  (1025, 1)\tnan\n",
      "  (1025, 2)\t0.2597379819492849\n",
      "  (1025, 65)\t1.0\n",
      "  (1025, 68)\t1.0\n",
      "  (1025, 72)\t1.0\n",
      "  (1025, 79)\t1.0\n",
      "  (1026, 0)\t2.2728308016486753\n",
      "  (1026, 1)\t3.254573192026356\n",
      "  (1026, 2)\t-0.1267713578863038\n",
      "  (1026, 62)\t1.0\n",
      "  (1026, 71)\t1.0\n",
      "  (1026, 74)\t1.0\n",
      "  (1026, 76)\t1.0\n"
     ]
    }
   ],
   "source": [
    "from sklearn.preprocessing import OneHotEncoder, StandardScaler\n",
    "from sklearn.compose import ColumnTransformer\n",
    "from sklearn.pipeline import Pipeline\n",
    "\n",
    "# Identificar colunas numéricas e categóricas\n",
    "numeric_features = ['nb_of_Cores', 'nb_of_Threads', 'Processor_Base_Frequency']\n",
    "categorical_features = ['Product_Collection', 'Vertical_Segment', 'Status', 'Lithography']\n",
    "\n",
    "# Definir o pré-processamento para colunas numéricas e categóricas\n",
    "numeric_transformer = Pipeline(steps=[('scaler', StandardScaler())])\n",
    "categorical_transformer = Pipeline(steps=[('onehot', OneHotEncoder(handle_unknown='ignore'))])\n",
    "\n",
    "# Aplicar pré-processamento às colunas numéricas e categóricas\n",
    "preprocessor = ColumnTransformer(transformers=[\n",
    "    ('num', numeric_transformer, numeric_features),\n",
    "    ('cat', categorical_transformer, categorical_features)\n",
    "])\n",
    "\n",
    "# Aplicar o pré-processamento aos dados de treinamento e teste\n",
    "X_train_processed = preprocessor.fit_transform(X_train)\n",
    "X_test_processed = preprocessor.transform(X_test)\n",
    "\n",
    "print(\"Dados após pré-processamento:\")\n",
    "print(X_train_processed)\n"
   ]
  },
  {
   "cell_type": "markdown",
   "metadata": {},
   "source": [
    "Treinamento do Modelo de Árvore de Decisão\n",
    "\n",
    "Objetivo: Inicializar e treinar um modelo de árvore de decisão (`DecisionTreeRegressor`) usando os dados de treinamento processados. Isso envolve verificar se os dados estão no formato correto (array numpy) e converter se necessário, garantindo que o modelo possa aprender os padrões nos dados e fazer previsões futuras. O `random_state` é definido para garantir a reprodutibilidade dos resultados.\n"
   ]
  },
  {
   "cell_type": "code",
   "execution_count": 60,
   "metadata": {},
   "outputs": [
    {
     "name": "stdout",
     "output_type": "stream",
     "text": [
      "Modelo treinado com sucesso.\n"
     ]
    }
   ],
   "source": [
    "from sklearn.tree import DecisionTreeRegressor\n",
    "from scipy.sparse import issparse\n",
    "\n",
    "# Verificar o formato dos dados processados e converter se necessário\n",
    "if issparse(X_train_processed):\n",
    "    X_train_processed = X_train_processed.toarray()\n",
    "if issparse(X_test_processed):\n",
    "    X_test_processed = X_test_processed.toarray()\n",
    "\n",
    "# Inicializar o modelo\n",
    "model = DecisionTreeRegressor(random_state=42)\n",
    "\n",
    "# Treinar o modelo\n",
    "model.fit(X_train_processed, y_train)\n",
    "\n",
    "print(\"Modelo treinado com sucesso.\")\n"
   ]
  },
  {
   "cell_type": "markdown",
   "metadata": {},
   "source": [
    "Avaliação do Modelo\n",
    "\n",
    "Objetivo: Avaliar o desempenho do modelo usando o conjunto de teste. Isso envolve:\n",
    "- Fazer previsões (`y_pred`) no conjunto de teste (`X_test_processed`).\n",
    "- Calcular o **Mean Squared Error (MSE)** para medir a média dos quadrados dos erros entre os valores previstos e os valores reais.\n",
    "- Calcular o **R² Score** para medir a proporção da variância na variável dependente que é explicada pelo modelo.\n",
    "- Exibir as métricas de desempenho para verificar a precisão e a eficácia do modelo."
   ]
  },
  {
   "cell_type": "code",
   "execution_count": 61,
   "metadata": {},
   "outputs": [
    {
     "name": "stdout",
     "output_type": "stream",
     "text": [
      "Mean Squared Error: 876970.4128296585\n",
      "R² Score: 0.579372132757934\n"
     ]
    }
   ],
   "source": [
    "from sklearn.metrics import mean_squared_error, r2_score\n",
    "\n",
    "# Fazer previsões no conjunto de teste\n",
    "y_pred = model.predict(X_test_processed)\n",
    "\n",
    "# Calcular MSE e R²\n",
    "mse = mean_squared_error(y_test, y_pred)\n",
    "r2 = r2_score(y_test, y_pred)\n",
    "\n",
    "print(f\"Mean Squared Error: {mse}\")\n",
    "print(f\"R² Score: {r2}\")\n"
   ]
  },
  {
   "cell_type": "markdown",
   "metadata": {},
   "source": [
    "Resultados do Modelo Resumidos\n",
    "\n",
    "- Mean Squared Error (MSE): 876970.41\n",
    "  - Resumo: Indica a média dos quadrados dos erros entre as previsões e os valores reais. Um valor mais baixo é melhor.\n",
    "\n",
    "- R² Score: 0.579\n",
    "  - Resumo: Aproximadamente 57.9% da variabilidade nos preços recomendados é explicada pelo modelo. Bom desempenho, mas ainda há margem para melhorias."
   ]
  }
 ],
 "metadata": {
  "kernelspec": {
   "display_name": "Python 3",
   "language": "python",
   "name": "python3"
  },
  "language_info": {
   "codemirror_mode": {
    "name": "ipython",
    "version": 3
   },
   "file_extension": ".py",
   "mimetype": "text/x-python",
   "name": "python",
   "nbconvert_exporter": "python",
   "pygments_lexer": "ipython3",
   "version": "3.12.0"
  }
 },
 "nbformat": 4,
 "nbformat_minor": 2
}
