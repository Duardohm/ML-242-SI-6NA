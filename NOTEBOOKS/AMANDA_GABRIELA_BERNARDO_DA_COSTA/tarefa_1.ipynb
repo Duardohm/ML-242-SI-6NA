{
  "nbformat": 4,
  "nbformat_minor": 0,
  "metadata": {
    "colab": {
      "provenance": []
    },
    "kernelspec": {
      "name": "python3",
      "display_name": "Python 3"
    },
    "language_info": {
      "name": "python"
    }
  },
  "cells": [
    {
      "cell_type": "markdown",
      "source": [
        "**Tarefa 1 - Machine Learning** - Amanda Gabriela Bernardo da Costa (01566793)"
      ],
      "metadata": {
        "id": "at8j9uo7XLfC"
      }
    },
    {
      "cell_type": "code",
      "execution_count": null,
      "metadata": {
        "id": "JRlOWbmpW10e"
      },
      "outputs": [],
      "source": [
        "\n",
        "valores = [4, 6, 3, 4, 5, 8, 4, 2]\n",
        "valor_maximo = max(valores)\n",
        "print(valor_maximo)\n"
      ]
    },
    {
      "cell_type": "code",
      "source": [
        "valores = [4, 6, 3, 4, 5, 8, 4, 2]\n",
        "valor_minimo = min(valores)\n",
        "print(valor_minimo)\n"
      ],
      "metadata": {
        "id": "jIOp8bekXicC"
      },
      "execution_count": null,
      "outputs": []
    },
    {
      "cell_type": "code",
      "source": [
        "valores = [4, 6, 3, 4, 5, 8, 4, 2]\n",
        "media = sum(valores) / len(valores)\n",
        "print(media)\n"
      ],
      "metadata": {
        "id": "0Kohz4F6YRwi"
      },
      "execution_count": null,
      "outputs": []
    },
    {
      "cell_type": "code",
      "source": [
        "valores = [4, 6, 3, 4, 5, 8, 4, 2]\n",
        "valores.sort()\n",
        "n = len(valores)\n",
        "if n % 2 == 0:\n",
        "  mediana = (valores[n//2 - 1] + valores[n//2]) / 2\n",
        "else:\n",
        "  mediana = valores[n//2]\n",
        "print(mediana)\n"
      ],
      "metadata": {
        "id": "IiM6JveXZIHe"
      },
      "execution_count": null,
      "outputs": []
    },
    {
      "cell_type": "code",
      "source": [
        "\n",
        "import math\n",
        "\n",
        "valores = [4, 6, 3, 4, 5, 8, 4, 2]\n",
        "n = len(valores)\n",
        "\n",
        "\n",
        "media = sum(valores) / n\n",
        "\n",
        "soma_quadrados_diferencas = 0\n",
        "for valor in valores:\n",
        "  soma_quadrados_diferencas += (valor - media) ** 2\n",
        "variancia = soma_quadrados_diferencas / n\n",
        "\n",
        "\n",
        "desvio_padrao = math.sqrt(variancia)\n",
        "\n",
        "print(desvio_padrao)\n"
      ],
      "metadata": {
        "id": "IEX8M0wTZPhg"
      },
      "execution_count": null,
      "outputs": []
    }
  ]
}