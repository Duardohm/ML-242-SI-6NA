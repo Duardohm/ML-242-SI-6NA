{
  "nbformat": 4,
  "nbformat_minor": 0,
  "metadata": {
    "colab": {
      "provenance": []
    },
    "kernelspec": {
      "name": "python3",
      "display_name": "Python 3"
    },
    "language_info": {
      "name": "python"
    }
  },
  "cells": [
    {
      "cell_type": "code",
      "execution_count": 1,
      "metadata": {
        "id": "r5lYmvX7fa4v"
      },
      "outputs": [],
      "source": [
        "import pandas as pd\n",
        "\n",
        "# URL do dataset Wine\n",
        "url = 'https://archive.ics.uci.edu/ml/machine-learning-databases/wine/wine.data'\n",
        "\n",
        "# Nome das colunas em português BR\n",
        "column_names_pt_br = [\n",
        "    'classe',\n",
        "    'alcool',\n",
        "    'acido_malico',\n",
        "    'cinzas',\n",
        "    'alcalinidade_de_cinzas',\n",
        "    'magnesio',\n",
        "    'fenois_totais',\n",
        "    'flavanoides',\n",
        "    'fenois_nao_flavanoides',\n",
        "    'proantocianinas',\n",
        "    'intensidade_de_cor',\n",
        "    'matiz',\n",
        "    'od280_od315_de_vinhos_diluidos',\n",
        "    'prolina'\n",
        "]\n",
        "\n",
        "# Ler o arquivo CSV com as colunas especificadas, definindo a coluna 'classe' como object\n",
        "vinhos = pd.read_csv(url, names=column_names_pt_br, dtype={'classe': object})"
      ]
    },
    {
      "cell_type": "code",
      "source": [
        "from sklearn.model_selection import train_test_split"
      ],
      "metadata": {
        "id": "QhZmAadIgO4f"
      },
      "execution_count": 2,
      "outputs": []
    },
    {
      "cell_type": "code",
      "source": [
        "import pandas as pd\n",
        "from sklearn.model_selection import train_test_split\n",
        "\n",
        "# ... (código anterior para ler o dataset 'vinhos') ...\n",
        "\n",
        "# Define X (features) e y (target)\n",
        "X = vinhos.drop('classe', axis=1)  # Remove a coluna 'classe' para obter as features\n",
        "y = vinhos['classe']   # Define a coluna 'classe' como o target\n",
        "\n",
        "# Divide o dataset em treino e teste\n",
        "X_train, X_test, y_train, y_test = train_test_split(X, y, test_size=0.3, random_state=42)"
      ],
      "metadata": {
        "id": "FdpDZ6UFg6md"
      },
      "execution_count": 4,
      "outputs": []
    },
    {
      "cell_type": "code",
      "source": [
        "from sklearn.neighbors import KNeighborsClassifier\n",
        "from sklearn.metrics import accuracy_score\n",
        "\n",
        "# Assumindo que X_train, X_test, y_train, y_test já estão definidos\n",
        "\n",
        "# KNN com k=3\n",
        "knn_3 = KNeighborsClassifier(n_neighbors=3)\n",
        "knn_3.fit(X_train, y_train)\n",
        "y_pred_3 = knn_3.predict(X_test)\n",
        "accuracy_3 = accuracy_score(y_test, y_pred_3)\n",
        "print(\"Acurácia para k=3:\", accuracy_3)\n",
        "\n",
        "# KNN com k=5\n",
        "knn_5 = KNeighborsClassifier(n_neighbors=5)\n",
        "knn_5.fit(X_train, y_train)\n",
        "y_pred_5 = knn_5.predict(X_test)\n",
        "accuracy_5 = accuracy_score(y_test, y_pred_5)\n",
        "print(\"Acurácia para k=5:\", accuracy_5)\n",
        "\n",
        "# Comparação\n",
        "if accuracy_3 > accuracy_5:\n",
        "    print(\"O modelo com k=3 apresentou melhor desempenho.\")\n",
        "elif accuracy_5 > accuracy_3:\n",
        "    print(\"O modelo com k=5 apresentou melhor desempenho.\")\n",
        "else:\n",
        "    print(\"Ambos os modelos apresentaram a mesma acurácia.\")"
      ],
      "metadata": {
        "colab": {
          "base_uri": "https://localhost:8080/"
        },
        "id": "FgPCvjhHhqi1",
        "outputId": "0736b712-e101-4395-c8b7-e9c5c173c383"
      },
      "execution_count": 5,
      "outputs": [
        {
          "output_type": "stream",
          "name": "stdout",
          "text": [
            "Acurácia para k=3: 0.7407407407407407\n",
            "Acurácia para k=5: 0.7407407407407407\n",
            "Ambos os modelos apresentaram a mesma acurácia.\n"
          ]
        }
      ]
    },
    {
      "cell_type": "code",
      "source": [
        "from sklearn.neighbors import KNeighborsClassifier\n",
        "from sklearn.metrics import accuracy_score\n",
        "\n",
        "# Função para treinar e avaliar o modelo\n",
        "def evaluate_knn(X_train, X_test, y_train, y_test, k):\n",
        "  knn = KNeighborsClassifier(n_neighbors=k)\n",
        "  knn.fit(X_train, y_train)\n",
        "  y_pred = knn.predict(X_test)\n",
        "  accuracy = accuracy_score(y_test, y_pred)\n",
        "  return accuracy\n",
        "\n",
        "# Valores de random_state\n",
        "random_states = [17, 24]\n",
        "k_values = [3, 5]\n",
        "\n",
        "# Loop para cada random_state\n",
        "for random_state in random_states:\n",
        "  # Dividir os dados\n",
        "  X_train, X_test, y_train, y_test = train_test_split(X, y, test_size=0.3, random_state=random_state)\n",
        "\n",
        "  print(f\"Resultados para random_state={random_state}\")\n",
        "  for k in k_values:\n",
        "    accuracy = evaluate_knn(X_train, X_test, y_train, y_test, k)\n",
        "    print(f\"  Acurácia para k={k}: {accuracy:.2f}\")"
      ],
      "metadata": {
        "colab": {
          "base_uri": "https://localhost:8080/"
        },
        "id": "9jzfQR2KiCZW",
        "outputId": "b007baf4-5286-445e-c988-ba69e652fd2e"
      },
      "execution_count": 6,
      "outputs": [
        {
          "output_type": "stream",
          "name": "stdout",
          "text": [
            "Resultados para random_state=17\n",
            "  Acurácia para k=3: 0.65\n",
            "  Acurácia para k=5: 0.67\n",
            "Resultados para random_state=24\n",
            "  Acurácia para k=3: 0.74\n",
            "  Acurácia para k=5: 0.67\n"
          ]
        }
      ]
    },
    {
      "cell_type": "code",
      "source": [
        "import pandas as pd\n",
        "from sklearn.neighbors import KNeighborsClassifier\n",
        "from sklearn.metrics import accuracy_score, precision_score, recall_score, f1_score\n",
        "\n",
        "# Função para treinar e avaliar o modelo\n",
        "def evaluate_knn(X_train, X_test, y_train, y_test, k):\n",
        "  knn = KNeighborsClassifier(n_neighbors=k)\n",
        "  knn.fit(X_train, y_train)\n",
        "  y_pred = knn.predict(X_test)\n",
        "  accuracy = accuracy_score(y_test, y_pred)\n",
        "  precision = precision_score(y_test, y_pred, average='weighted')\n",
        "  recall = recall_score(y_test, y_pred, average='weighted')\n",
        "  f1 = f1_score(y_test, y_pred, average='weighted')\n",
        "  return accuracy, precision, recall, f1\n",
        "\n",
        "# Lista para armazenar os resultados\n",
        "results = []\n",
        "\n",
        "# Valores de random_state e k\n",
        "random_states = [42, 17, 24]\n",
        "k_values = [3, 5]\n",
        "\n",
        "# Loop para cada combinação de random_state e k\n",
        "for random_state in random_states:\n",
        "  for k in k_values:\n",
        "    # Dividir os dados\n",
        "    X_train, X_test, y_train, y_test = train_test_split(X, y, test_size=0.3, random_state=random_state)\n",
        "\n",
        "    # Avaliar o modelo\n",
        "    accuracy, precision, recall, f1 = evaluate_knn(X_train, X_test, y_train, y_test, k)\n",
        "    results.append([random_state, k, accuracy, precision, recall, f1])\n",
        "\n",
        "# DataFrame com os resultados\n",
        "df_results = pd.DataFrame(results, columns=['random_state', 'k', 'accuracy', 'precision', 'recall', 'f1'])\n",
        "\n",
        "# Imprimir tabela\n",
        "print(df_results)\n",
        "\n",
        "# Visualização\n",
        "import seaborn as sns\n",
        "import matplotlib.pyplot as plt\n",
        "\n",
        "# Gráfico de linha para visualizar a variação da acurácia com k\n",
        "sns.lineplot(data=df_results, x='k', y='accuracy', hue='random_state')\n",
        "plt.title('Variação da Acurácia com k')\n",
        "plt.xlabel('k')\n",
        "plt.ylabel('Acurácia')\n",
        "plt.show()"
      ],
      "metadata": {
        "colab": {
          "base_uri": "https://localhost:8080/",
          "height": 594
        },
        "id": "36z9zUFnike-",
        "outputId": "58e93452-3335-42fb-9440-8ea62f476d7d"
      },
      "execution_count": 7,
      "outputs": [
        {
          "output_type": "stream",
          "name": "stdout",
          "text": [
            "   random_state  k  accuracy  precision    recall        f1\n",
            "0            42  3  0.740741   0.744753  0.740741  0.742407\n",
            "1            42  5  0.740741   0.744753  0.740741  0.742407\n",
            "2            17  3  0.648148   0.637981  0.648148  0.614868\n",
            "3            17  5  0.666667   0.666049  0.666667  0.631002\n",
            "4            24  3  0.740741   0.742047  0.740741  0.738780\n",
            "5            24  5  0.666667   0.636977  0.666667  0.645813\n"
          ]
        },
        {
          "output_type": "display_data",
          "data": {
            "text/plain": [
              "<Figure size 640x480 with 1 Axes>"
            ],
            "image/png": "[encoded data removed]"
          },
          "metadata": {}
        }
      ]
    }
  ]
}
