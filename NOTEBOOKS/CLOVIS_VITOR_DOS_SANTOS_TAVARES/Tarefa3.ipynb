{
  "nbformat": 4,
  "nbformat_minor": 0,
  "metadata": {
    "colab": {
      "provenance": []
    },
    "kernelspec": {
      "name": "python3",
      "display_name": "Python 3"
    },
    "language_info": {
      "name": "python"
    }
  },
  "cells": [
    {
      "cell_type": "code",
      "execution_count": 1,
      "metadata": {
        "id": "brTX91buqJCo"
      },
      "outputs": [],
      "source": [
        "import pandas as pd\n",
        "\n",
        "# URL do dataset Wine\n",
        "url = 'https://archive.ics.uci.edu/ml/machine-learning-databases/wine/wine.data'\n",
        "\n",
        "# Nome das colunas em português BR\n",
        "column_names_pt_br = [\n",
        "    'classe',\n",
        "    'alcool',\n",
        "    'acido_malico',\n",
        "    'cinzas',\n",
        "    'alcalinidade_de_cinzas',\n",
        "    'magnesio',\n",
        "    'fenois_totais',\n",
        "    'flavanoides',\n",
        "    'fenois_nao_flavanoides',\n",
        "    'proantocianinas',\n",
        "    'intensidade_de_cor',\n",
        "    'matiz',\n",
        "    'od280_od315_de_vinhos_diluidos',\n",
        "    'prolina'\n",
        "]\n",
        "\n",
        "# Ler o arquivo CSV com as colunas especificadas, definindo a coluna 'classe' como object\n",
        "vinhos = pd.read_csv(url, names=column_names_pt_br, dtype={'classe': object})"
      ]
    },
    {
      "cell_type": "code",
      "source": [
        "from sklearn.model_selection import train_test_split\n",
        "\n",
        "# Separar as features (X) e o target (y)\n",
        "X = vinhos.drop('classe', axis=1)\n",
        "y = vinhos['classe']\n",
        "\n",
        "# Dividir os dados em treino e teste\n",
        "X_train, X_test, y_train, y_test = train_test_split(X, y, test_size=0.3, random_state=42)"
      ],
      "metadata": {
        "id": "r3CjKTNfqW3Z"
      },
      "execution_count": 2,
      "outputs": []
    },
    {
      "cell_type": "code",
      "source": [
        "from sklearn.neighbors import KNeighborsClassifier\n",
        "from sklearn.metrics import accuracy_score\n",
        "\n",
        "# Criar e treinar o classificador KNN com k=3\n",
        "knn_3 = KNeighborsClassifier(n_neighbors=3)\n",
        "knn_3.fit(X_train, y_train)\n",
        "\n",
        "# Fazer previsões no conjunto de teste\n",
        "y_pred_3 = knn_3.predict(X_test)\n",
        "\n",
        "# Avaliar a acurácia do modelo com k=3\n",
        "accuracy_3 = accuracy_score(y_test, y_pred_3)\n",
        "print(f\"Acurácia do modelo com k=3: {accuracy_3}\")\n",
        "\n",
        "# Criar e treinar o classificador KNN com k=5\n",
        "knn_5 = KNeighborsClassifier(n_neighbors=5)\n",
        "knn_5.fit(X_train, y_train)\n",
        "\n",
        "# Fazer previsões no conjunto de teste\n",
        "y_pred_5 = knn_5.predict(X_test)\n",
        "\n",
        "# Avaliar a acurácia do modelo com k=5\n",
        "accuracy_5 = accuracy_score(y_test, y_pred_5)\n",
        "print(f\"Acurácia do modelo com k=5: {accuracy_5}\")\n",
        "\n",
        "# Comparar os resultados\n",
        "if accuracy_3 > accuracy_5:\n",
        "  print(\"O modelo com k=3 apresentou melhor desempenho.\")\n",
        "elif accuracy_5 > accuracy_3:\n",
        "  print(\"O modelo com k=5 apresentou melhor desempenho.\")\n",
        "else:\n",
        "  print(\"Ambos os modelos apresentaram o mesmo desempenho.\")"
      ],
      "metadata": {
        "colab": {
          "base_uri": "https://localhost:8080/"
        },
        "id": "hLW6O-nRqd1-",
        "outputId": "7937bd51-d4d3-45bb-a2b5-777b603ab2a9"
      },
      "execution_count": 3,
      "outputs": [
        {
          "output_type": "stream",
          "name": "stdout",
          "text": [
            "Acurácia do modelo com k=3: 0.7407407407407407\n",
            "Acurácia do modelo com k=5: 0.7407407407407407\n",
            "Ambos os modelos apresentaram o mesmo desempenho.\n"
          ]
        }
      ]
    },
    {
      "cell_type": "code",
      "source": [
        "import pandas as pd\n",
        "from sklearn.model_selection import train_test_split\n",
        "from sklearn.neighbors import KNeighborsClassifier\n",
        "from sklearn.metrics import accuracy_score\n",
        "\n",
        "# URL do dataset Wine\n",
        "url = 'https://archive.ics.uci.edu/ml/machine-learning-databases/wine/wine.data'\n",
        "\n",
        "# Nome das colunas em português BR\n",
        "column_names_pt_br = [\n",
        "    'classe',\n",
        "    'alcool',\n",
        "    'acido_malico',\n",
        "    'cinzas',\n",
        "    'alcalinidade_de_cinzas',\n",
        "    'magnesio',\n",
        "    'fenois_totais',\n",
        "    'flavanoides',\n",
        "    'fenois_nao_flavanoides',\n",
        "    'proantocianinas',\n",
        "    'intensidade_de_cor',\n",
        "    'matiz',\n",
        "    'od280_od315_de_vinhos_diluidos',\n",
        "    'prolina'\n",
        "]\n",
        "\n",
        "# Ler o arquivo CSV com as colunas especificadas, definindo a coluna 'classe' como object\n",
        "vinhos = pd.read_csv(url, names=column_names_pt_br, dtype={'classe': object})\n",
        "\n",
        "# Separar as features (X) e o target (y)\n",
        "X = vinhos.drop('classe', axis=1)\n",
        "y = vinhos['classe']\n",
        "\n",
        "random_states = [17, 24]\n",
        "\n",
        "for random_state in random_states:\n",
        "    print(f\"\\nResultados para random_state = {random_state}:\")\n",
        "    X_train, X_test, y_train, y_test = train_test_split(X, y, test_size=0.3, random_state=random_state)\n",
        "\n",
        "    for k in [3, 5]:\n",
        "        knn = KNeighborsClassifier(n_neighbors=k)\n",
        "        knn.fit(X_train, y_train)\n",
        "        y_pred = knn.predict(X_test)\n",
        "        accuracy = accuracy_score(y_test, y_pred)\n",
        "        print(f\"Acurácia do modelo com k={k}: {accuracy}\")\n",
        "\n",
        "    #Comparação para o random state atual\n",
        "    accuracy_3 = accuracy_score(y_test, KNeighborsClassifier(n_neighbors=3).fit(X_train, y_train).predict(X_test))\n",
        "    accuracy_5 = accuracy_score(y_test, KNeighborsClassifier(n_neighbors=5).fit(X_train, y_train).predict(X_test))\n",
        "\n",
        "    if accuracy_3 > accuracy_5:\n",
        "        print(\"O modelo com k=3 apresentou melhor desempenho.\")\n",
        "    elif accuracy_5 > accuracy_3:\n",
        "        print(\"O modelo com k=5 apresentou melhor desempenho.\")\n",
        "    else:\n",
        "        print(\"Ambos os modelos apresentaram o mesmo desempenho.\")"
      ],
      "metadata": {
        "colab": {
          "base_uri": "https://localhost:8080/"
        },
        "id": "2XbQpD5Eq0Aa",
        "outputId": "f68dfe1e-a97e-4010-ba8f-6ad1500fb928"
      },
      "execution_count": 4,
      "outputs": [
        {
          "output_type": "stream",
          "name": "stdout",
          "text": [
            "\n",
            "Resultados para random_state = 17:\n",
            "Acurácia do modelo com k=3: 0.6481481481481481\n",
            "Acurácia do modelo com k=5: 0.6666666666666666\n",
            "O modelo com k=5 apresentou melhor desempenho.\n",
            "\n",
            "Resultados para random_state = 24:\n",
            "Acurácia do modelo com k=3: 0.7407407407407407\n",
            "Acurácia do modelo com k=5: 0.6666666666666666\n",
            "O modelo com k=3 apresentou melhor desempenho.\n"
          ]
        }
      ]
    },
    {
      "cell_type": "code",
      "source": [
        "import pandas as pd\n",
        "from sklearn.model_selection import train_test_split\n",
        "from sklearn.neighbors import KNeighborsClassifier\n",
        "from sklearn.metrics import accuracy_score\n",
        "\n",
        "# URL do dataset Wine\n",
        "url = 'https://archive.ics.uci.edu/ml/machine-learning-databases/wine/wine.data'\n",
        "\n",
        "# Nome das colunas em português BR\n",
        "column_names_pt_br = [\n",
        "    'classe',\n",
        "    'alcool',\n",
        "    'acido_malico',\n",
        "    'cinzas',\n",
        "    'alcalinidade_de_cinzas',\n",
        "    'magnesio',\n",
        "    'fenois_totais',\n",
        "    'flavanoides',\n",
        "    'fenois_nao_flavanoides',\n",
        "    'proantocianinas',\n",
        "    'intensidade_de_cor',\n",
        "    'matiz',\n",
        "    'od280_od315_de_vinhos_diluidos',\n",
        "    'prolina'\n",
        "]\n",
        "\n",
        "# Ler o arquivo CSV com as colunas especificadas, definindo a coluna 'classe' como object\n",
        "vinhos = pd.read_csv(url, names=column_names_pt_br, dtype={'classe': object})\n",
        "\n",
        "# Separar as features (X) e o target (y)\n",
        "X = vinhos.drop('classe', axis=1)\n",
        "y = vinhos['classe']\n",
        "\n",
        "random_states = [17, 24]\n",
        "\n",
        "for random_state in random_states:\n",
        "    print(f\"\\nResultados para random_state = {random_state}:\")\n",
        "    X_train, X_test, y_train, y_test = train_test_split(X, y, test_size=0.3, random_state=random_state)\n",
        "\n",
        "    for k in [3, 5]:\n",
        "        knn = KNeighborsClassifier(n_neighbors=k)\n",
        "        knn.fit(X_train, y_train)\n",
        "        y_pred = knn.predict(X_test)\n",
        "        accuracy = accuracy_score(y_test, y_pred)\n",
        "        print(f\"Acurácia do modelo com k={k}: {accuracy}\")\n",
        "\n",
        "    #Comparação para o random state atual\n",
        "    accuracy_3 = accuracy_score(y_test, KNeighborsClassifier(n_neighbors=3).fit(X_train, y_train).predict(X_test))\n",
        "    accuracy_5 = accuracy_score(y_test, KNeighborsClassifier(n_neighbors=5).fit(X_train, y_train).predict(X_test))\n",
        "\n",
        "    if accuracy_3 > accuracy_5:\n",
        "        print(\"O modelo com k=3 apresentou melhor desempenho.\")\n",
        "    elif accuracy_5 > accuracy_3:\n",
        "        print(\"O modelo com k=5 apresentou melhor desempenho.\")\n",
        "    else:\n",
        "        print(\"Ambos os modelos apresentaram o mesmo desempenho.\")"
      ],
      "metadata": {
        "colab": {
          "base_uri": "https://localhost:8080/"
        },
        "id": "egB-m-3yq854",
        "outputId": "378c7354-070a-4227-e257-c1344f437251"
      },
      "execution_count": 5,
      "outputs": [
        {
          "output_type": "stream",
          "name": "stdout",
          "text": [
            "\n",
            "Resultados para random_state = 17:\n",
            "Acurácia do modelo com k=3: 0.6481481481481481\n",
            "Acurácia do modelo com k=5: 0.6666666666666666\n",
            "O modelo com k=5 apresentou melhor desempenho.\n",
            "\n",
            "Resultados para random_state = 24:\n",
            "Acurácia do modelo com k=3: 0.7407407407407407\n",
            "Acurácia do modelo com k=5: 0.6666666666666666\n",
            "O modelo com k=3 apresentou melhor desempenho.\n"
          ]
        }
      ]
    }
  ]
}