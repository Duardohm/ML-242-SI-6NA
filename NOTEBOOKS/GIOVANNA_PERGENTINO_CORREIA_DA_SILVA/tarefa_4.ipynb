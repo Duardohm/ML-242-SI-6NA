{
  "nbformat": 4,
  "nbformat_minor": 0,
  "metadata": {
    "colab": {
      "provenance": []
    },
    "kernelspec": {
      "name": "python3",
      "display_name": "Python 3"
    },
    "language_info": {
      "name": "python"
    }
  },
  "cells": [
    {
      "cell_type": "markdown",
      "source": [
        "**Exercício Prático: Avaliação de Classificadores KNN com K-Fold Cross-Validation - Dataset Vinhos (UCI)**"
      ],
      "metadata": {
        "id": "RpjZM3qrSgi7"
      }
    },
    {
      "cell_type": "markdown",
      "source": [
        "Leitura dos dados:"
      ],
      "metadata": {
        "id": "7vqQ-WiLU4nr"
      }
    },
    {
      "cell_type": "code",
      "execution_count": 1,
      "metadata": {
        "id": "XpOtGMB74Ljp"
      },
      "outputs": [],
      "source": [
        "import pandas as pd\n",
        "\n",
        "# URL do dataset Wine\n",
        "url = 'https://archive.ics.uci.edu/ml/machine-learning-databases/wine/wine.data'\n",
        "\n",
        "# Nome das colunas em português BR\n",
        "column_names_pt_br = [\n",
        "    'classe',\n",
        "    'alcool',\n",
        "    'acido_malico',\n",
        "    'cinzas',\n",
        "    'alcalinidade_de_cinzas',\n",
        "    'magnesio',\n",
        "    'fenois_totais',\n",
        "    'flavanoides',\n",
        "    'fenois_nao_flavanoides',\n",
        "    'proantocianinas',\n",
        "    'intensidade_de_cor',\n",
        "    'matiz',\n",
        "    'od280_od315_de_vinhos_diluidos',\n",
        "    'prolina'\n",
        "]\n",
        "\n",
        "# Ler o arquivo CSV com as colunas especificadas, definindo a coluna 'classe' como object\n",
        "vinhos = pd.read_csv(url, names=column_names_pt_br, dtype={'classe': object})"
      ]
    },
    {
      "cell_type": "markdown",
      "source": [
        "Pré-processamento dos Dados:"
      ],
      "metadata": {
        "id": "ymxefBkOSf6H"
      }
    },
    {
      "cell_type": "code",
      "source": [
        "# Separar as variáveis\n",
        "X = vinhos.drop('classe', axis=1)\n",
        "y = vinhos['classe']"
      ],
      "metadata": {
        "id": "JZnJ1xg5TOre"
      },
      "execution_count": 3,
      "outputs": []
    },
    {
      "cell_type": "markdown",
      "source": [
        "Configuração do Experimento:"
      ],
      "metadata": {
        "id": "9sFWrg2CTWsP"
      }
    },
    {
      "cell_type": "code",
      "source": [
        "from sklearn.model_selection import train_test_split, KFold\n",
        "from sklearn.neighbors import KNeighborsClassifier\n",
        "from sklearn.metrics import accuracy_score\n",
        "import numpy as np\n",
        "\n",
        "kf = KFold(n_splits=5, shuffle=True, random_state=None)\n",
        "\n",
        "# Função experimentos\n",
        "def executar_experimento(random_state, k_values):\n",
        "    X_train, X_test, y_train, y_test = train_test_split(X, y, test_size=0.3, random_state=random_state, stratify=y)\n",
        "\n",
        "    resultados = []\n",
        "    for k in k_values:\n",
        "        knn = KNeighborsClassifier(n_neighbors=k)\n",
        "        knn.fit(X_train, y_train)\n",
        "        y_pred = knn.predict(X_test)\n",
        "        acuracia = accuracy_score(y_test, y_pred)\n",
        "        resultados.append({'k': k, 'acuracia': acuracia})\n",
        "\n",
        "    return resultados\n",
        "\n",
        "\n",
        "# Realizar os experimentos\n",
        "random_states = [42, 17, 24]\n",
        "k_values = [3, 5]\n",
        "\n",
        "for random_state in random_states:\n",
        "    resultados = executar_experimento(random_state, k_values)\n",
        "    print(f\"Resultados para random_state = {random_state}:\")\n",
        "    for resultado in resultados:\n",
        "        print(f\"  k = {resultado['k']}: Acurácia = {resultado['acuracia']}\")\n",
        "    print(\"-\" * 20)"
      ],
      "metadata": {
        "colab": {
          "base_uri": "https://localhost:8080/"
        },
        "id": "2_flLMC8TZmd",
        "outputId": "a3372d9d-a23f-48c8-8c37-cc31af21ccbe"
      },
      "execution_count": 4,
      "outputs": [
        {
          "output_type": "stream",
          "name": "stdout",
          "text": [
            "Resultados para random_state = 42:\n",
            "  k = 3: Acurácia = 0.6851851851851852\n",
            "  k = 5: Acurácia = 0.7222222222222222\n",
            "--------------------\n",
            "Resultados para random_state = 17:\n",
            "  k = 3: Acurácia = 0.7592592592592593\n",
            "  k = 5: Acurácia = 0.7592592592592593\n",
            "--------------------\n",
            "Resultados para random_state = 24:\n",
            "  k = 3: Acurácia = 0.7037037037037037\n",
            "  k = 5: Acurácia = 0.6851851851851852\n",
            "--------------------\n"
          ]
        }
      ]
    },
    {
      "cell_type": "markdown",
      "source": [
        "Estrutura de Cross-Validation com KFold:"
      ],
      "metadata": {
        "id": "yve9QNdsTqQe"
      }
    },
    {
      "cell_type": "code",
      "source": [
        "import pandas as pd\n",
        "from sklearn.model_selection import train_test_split, KFold\n",
        "from sklearn.neighbors import KNeighborsClassifier\n",
        "from sklearn.metrics import accuracy_score\n",
        "import numpy as np\n",
        "\n",
        "# Estrutura de Cross-Validation com KFold:\n",
        "def executar_experimento_kfold(random_state, k_values):\n",
        "    kf = KFold(n_splits=10, shuffle=True, random_state=random_state)\n",
        "    resultados_kfold = []\n",
        "\n",
        "    for k in k_values:\n",
        "        acuracias = []\n",
        "        for train_index, test_index in kf.split(X):\n",
        "            X_train, X_test = X.iloc[train_index], X.iloc[test_index]\n",
        "            y_train, y_test = y.iloc[train_index], y.iloc[test_index]\n",
        "\n",
        "            knn = KNeighborsClassifier(n_neighbors=k)\n",
        "            knn.fit(X_train, y_train)\n",
        "            y_pred = knn.predict(X_test)\n",
        "            acuracia = accuracy_score(y_test, y_pred)\n",
        "            acuracias.append(acuracia)\n",
        "\n",
        "        media_acuracia = np.mean(acuracias)\n",
        "        desvio_padrao_acuracia = np.std(acuracias)\n",
        "        resultados_kfold.append({'k': k, 'media_acuracia': media_acuracia, 'desvio_padrao': desvio_padrao_acuracia})\n",
        "    return resultados_kfold\n",
        "\n",
        "\n",
        "# Realizar os experimentos com KFold\n",
        "random_states = [42, 17, 24]\n",
        "k_values = [3, 5]\n",
        "\n",
        "for random_state in random_states:\n",
        "    resultados_kfold = executar_experimento_kfold(random_state, k_values)\n",
        "    print(f\"Resultados KFold para random_state = {random_state}:\")\n",
        "    for resultado in resultados_kfold:\n",
        "        print(f\"  k = {resultado['k']}: Média da Acurácia = {resultado['media_acuracia']:.4f}, Desvio Padrão = {resultado['desvio_padrao']:.4f}\")\n",
        "    print(\"-\" * 20)"
      ],
      "metadata": {
        "colab": {
          "base_uri": "https://localhost:8080/"
        },
        "id": "U0H2HhGOTrVI",
        "outputId": "ae434ffc-f7f1-4105-a24b-b73afd9f8cb5"
      },
      "execution_count": 5,
      "outputs": [
        {
          "output_type": "stream",
          "name": "stdout",
          "text": [
            "Resultados KFold para random_state = 42:\n",
            "  k = 3: Média da Acurácia = 0.7036, Desvio Padrão = 0.1392\n",
            "  k = 5: Média da Acurácia = 0.6641, Desvio Padrão = 0.1001\n",
            "--------------------\n",
            "Resultados KFold para random_state = 17:\n",
            "  k = 3: Média da Acurácia = 0.6987, Desvio Padrão = 0.1040\n",
            "  k = 5: Média da Acurácia = 0.6876, Desvio Padrão = 0.1121\n",
            "--------------------\n",
            "Resultados KFold para random_state = 24:\n",
            "  k = 3: Média da Acurácia = 0.7127, Desvio Padrão = 0.0968\n",
            "  k = 5: Média da Acurácia = 0.7127, Desvio Padrão = 0.0940\n",
            "--------------------\n"
          ]
        }
      ]
    },
    {
      "cell_type": "markdown",
      "source": [
        "Análise dos Resultados:"
      ],
      "metadata": {
        "id": "IZuX-8yFT80x"
      }
    },
    {
      "cell_type": "code",
      "source": [
        "melhores_resultados = {}\n",
        "for random_state in random_states:\n",
        "    resultados_kfold = executar_experimento_kfold(random_state, k_values)\n",
        "    melhor_k = None\n",
        "    melhor_acuracia = -1\n",
        "    for resultado in resultados_kfold:\n",
        "        if resultado['media_acuracia'] > melhor_acuracia:\n",
        "            melhor_acuracia = resultado['media_acuracia']\n",
        "            melhor_k = resultado['k']\n",
        "        elif resultado['media_acuracia'] == melhor_acuracia:\n",
        "            melhor_k = \"Empate entre k=3 e k=5\" # Registrando o empate\n",
        "    melhores_resultados[random_state] = (melhor_k, melhor_acuracia)\n",
        "\n",
        "for random_state, (melhor_k, melhor_acuracia) in melhores_resultados.items():\n",
        "    print(f\"Melhor k para random_state={random_state}: k={melhor_k}, Acurácia Média={melhor_acuracia:.4f}\")"
      ],
      "metadata": {
        "colab": {
          "base_uri": "https://localhost:8080/"
        },
        "id": "9kVJcK_rT9s1",
        "outputId": "bc28a58e-1709-47ad-f53c-c8391dcb95fa"
      },
      "execution_count": 8,
      "outputs": [
        {
          "output_type": "stream",
          "name": "stdout",
          "text": [
            "Melhor k para random_state=42: k=3, Acurácia Média=0.7036\n",
            "Melhor k para random_state=17: k=3, Acurácia Média=0.6987\n",
            "Melhor k para random_state=24: k=Empate entre k=3 e k=5, Acurácia Média=0.7127\n"
          ]
        }
      ]
    }
  ]
}