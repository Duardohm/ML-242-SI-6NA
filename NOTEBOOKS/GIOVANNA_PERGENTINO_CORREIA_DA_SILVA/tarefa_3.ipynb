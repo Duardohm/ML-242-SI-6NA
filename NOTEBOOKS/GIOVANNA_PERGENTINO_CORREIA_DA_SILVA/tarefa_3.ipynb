{
  "nbformat": 4,
  "nbformat_minor": 0,
  "metadata": {
    "colab": {
      "provenance": []
    },
    "kernelspec": {
      "name": "python3",
      "display_name": "Python 3"
    },
    "language_info": {
      "name": "python"
    }
  },
  "cells": [
    {
      "cell_type": "markdown",
      "source": [
        "**Exercício Prático: Classificação de Vinhos - KNN com Variação de Parâmetros**"
      ],
      "metadata": {
        "id": "TVMB8SV62qx-"
      }
    },
    {
      "cell_type": "markdown",
      "source": [
        "Carregamento dos Dados:"
      ],
      "metadata": {
        "id": "LEr62EFv2-CZ"
      }
    },
    {
      "cell_type": "code",
      "execution_count": 1,
      "metadata": {
        "id": "CDVcJ3E82g_Q"
      },
      "outputs": [],
      "source": [
        "import pandas as pd\n",
        "\n",
        "# URL do dataset Wine\n",
        "url = 'https://archive.ics.uci.edu/ml/machine-learning-databases/wine/wine.data'\n",
        "\n",
        "# Nome das colunas em português BR\n",
        "column_names_pt_br = [\n",
        "    'classe',\n",
        "    'alcool',\n",
        "    'acido_malico',\n",
        "    'cinzas',\n",
        "    'alcalinidade_de_cinzas',\n",
        "    'magnesio',\n",
        "    'fenois_totais',\n",
        "    'flavanoides',\n",
        "    'fenois_nao_flavanoides',\n",
        "    'proantocianinas',\n",
        "    'intensidade_de_cor',\n",
        "    'matiz',\n",
        "    'od280_od315_de_vinhos_diluidos',\n",
        "    'prolina'\n",
        "]\n",
        "\n",
        "# Ler o arquivo CSV com as colunas especificadas, definindo a coluna 'classe' como object\n",
        "vinhos = pd.read_csv(url, names=column_names_pt_br, dtype={'classe': object})"
      ]
    },
    {
      "cell_type": "markdown",
      "source": [
        "Separação dos Dados em Treino e Teste:"
      ],
      "metadata": {
        "id": "OIcgO4U02pj0"
      }
    },
    {
      "cell_type": "code",
      "source": [
        "from sklearn.model_selection import train_test_split\n",
        "\n",
        "# Separar features (X) e target (y)\n",
        "X = vinhos.drop('classe', axis=1)\n",
        "y = vinhos['classe']\n",
        "\n",
        "# Dividir os dados em conjuntos de treino e teste\n",
        "X_train, X_test, y_train, y_test = train_test_split(X, y, test_size=0.3, random_state=42)"
      ],
      "metadata": {
        "id": "S4-b5KMx3Pb3"
      },
      "execution_count": 3,
      "outputs": []
    },
    {
      "cell_type": "markdown",
      "source": [
        "Treinamento e Avaliação do Classificador KNN"
      ],
      "metadata": {
        "id": "4fZDZNKv3UZE"
      }
    },
    {
      "cell_type": "code",
      "source": [
        "from sklearn.neighbors import KNeighborsClassifier\n",
        "from sklearn.metrics import accuracy_score\n",
        "\n",
        "# Treinamento e avaliação do modelo com k=3\n",
        "knn_3 = KNeighborsClassifier(n_neighbors=3)\n",
        "knn_3.fit(X_train, y_train)\n",
        "y_pred_3 = knn_3.predict(X_test)\n",
        "accuracy_3 = accuracy_score(y_test, y_pred_3)\n",
        "print(f\"Acurácia do modelo com k=3: {accuracy_3}\")\n",
        "\n",
        "# Treinamento e avaliação do modelo com k=5\n",
        "knn_5 = KNeighborsClassifier(n_neighbors=5)\n",
        "knn_5.fit(X_train, y_train)\n",
        "y_pred_5 = knn_5.predict(X_test)\n",
        "accuracy_5 = accuracy_score(y_test, y_pred_5)\n",
        "print(f\"Acurácia do modelo com k=5: {accuracy_5}\")\n",
        "\n",
        "# Comparação dos resultados\n",
        "if accuracy_3 > accuracy_5:\n",
        "    print(\"O modelo com k=3 apresenta melhor desempenho.\")\n",
        "elif accuracy_5 > accuracy_3:\n",
        "    print(\"O modelo com k=5 apresenta melhor desempenho.\")\n",
        "else:\n",
        "    print(\"Ambos os modelos apresentam o mesmo desempenho.\")"
      ],
      "metadata": {
        "colab": {
          "base_uri": "https://localhost:8080/"
        },
        "id": "UIOvsnhs3XjR",
        "outputId": "abd7cd33-7473-4aaa-a869-74ca116dfb87"
      },
      "execution_count": 4,
      "outputs": [
        {
          "output_type": "stream",
          "name": "stdout",
          "text": [
            "Acurácia do modelo com k=3: 0.7407407407407407\n",
            "Acurácia do modelo com k=5: 0.7407407407407407\n",
            "Ambos os modelos apresentam o mesmo desempenho.\n"
          ]
        }
      ]
    },
    {
      "cell_type": "markdown",
      "source": [
        "Análise com Diferentes Valores de random_state"
      ],
      "metadata": {
        "id": "fB-cEMJQ3got"
      }
    },
    {
      "cell_type": "code",
      "source": [
        "random_states = [17, 24]\n",
        "\n",
        "for random_state in random_states:\n",
        "    print(f\"\\nResultados para random_state = {random_state}:\")\n",
        "    X_train, X_test, y_train, y_test = train_test_split(X, y, test_size=0.3, random_state=random_state)\n",
        "\n",
        "    # k = 3\n",
        "    knn_3 = KNeighborsClassifier(n_neighbors=3)\n",
        "    knn_3.fit(X_train, y_train)\n",
        "    y_pred_3 = knn_3.predict(X_test)\n",
        "    accuracy_3 = accuracy_score(y_test, y_pred_3)\n",
        "    print(f\"Acurácia do modelo com k=3: {accuracy_3}\")\n",
        "\n",
        "    # k = 5\n",
        "    knn_5 = KNeighborsClassifier(n_neighbors=5)\n",
        "    knn_5.fit(X_train, y_train)\n",
        "    y_pred_5 = knn_5.predict(X_test)\n",
        "    accuracy_5 = accuracy_score(y_test, y_pred_5)\n",
        "    print(f\"Acurácia do modelo com k=5: {accuracy_5}\")\n",
        "\n",
        "    # Comparação\n",
        "    if accuracy_3 > accuracy_5:\n",
        "        print(\"O modelo com k=3 apresenta melhor desempenho.\")\n",
        "    elif accuracy_5 > accuracy_3:\n",
        "        print(\"O modelo com k=5 apresenta melhor desempenho.\")\n",
        "    else:\n",
        "        print(\"Ambos os modelos apresentam o mesmo desempenho.\")"
      ],
      "metadata": {
        "colab": {
          "base_uri": "https://localhost:8080/"
        },
        "id": "CG6eqO9T3i-8",
        "outputId": "89ad55f9-2678-4e4c-f0de-e8ea0b2954b9"
      },
      "execution_count": 5,
      "outputs": [
        {
          "output_type": "stream",
          "name": "stdout",
          "text": [
            "\n",
            "Resultados para random_state = 17:\n",
            "Acurácia do modelo com k=3: 0.6481481481481481\n",
            "Acurácia do modelo com k=5: 0.6666666666666666\n",
            "O modelo com k=5 apresenta melhor desempenho.\n",
            "\n",
            "Resultados para random_state = 24:\n",
            "Acurácia do modelo com k=3: 0.7407407407407407\n",
            "Acurácia do modelo com k=5: 0.6666666666666666\n",
            "O modelo com k=3 apresenta melhor desempenho.\n"
          ]
        }
      ]
    },
    {
      "cell_type": "markdown",
      "source": [
        "Comparação Final"
      ],
      "metadata": {
        "id": "IFgiJFNx3ro4"
      }
    },
    {
      "cell_type": "code",
      "source": [
        "results = {}\n",
        "\n",
        "# Experimentos com os diferentes random_states e k\n",
        "for random_state in [42, 17, 24]:\n",
        "    for k in [3, 5]:\n",
        "        X_train, X_test, y_train, y_test = train_test_split(X, y, test_size=0.3, random_state=random_state)\n",
        "        knn = KNeighborsClassifier(n_neighbors=k)\n",
        "        knn.fit(X_train, y_train)\n",
        "        y_pred = knn.predict(X_test)\n",
        "        accuracy = accuracy_score(y_test, y_pred)\n",
        "        results[(random_state, k)] = accuracy\n",
        "        print(f\"random_state={random_state}, k={k}, Acurácia={accuracy}\")\n",
        "\n",
        "# Melhor configuração\n",
        "best_config = max(results, key=results.get)\n",
        "best_accuracy = results[best_config]\n",
        "\n",
        "print(\"\\nComparação Final:\")\n",
        "print(f\"A melhor configuração foi random_state={best_config[0]} e k={best_config[1]} com acurácia de {best_accuracy:.4f}\")\n",
        "\n",
        "# Resultados\n",
        "print(\"\\nTabela de Resultados:\")\n",
        "print(\"random_state | k | Acurácia\")\n",
        "print(\"-----------------------------\")\n",
        "for (random_state, k), accuracy in results.items():\n",
        "    print(f\"{random_state} | {k} | {accuracy:.4f}\")"
      ],
      "metadata": {
        "colab": {
          "base_uri": "https://localhost:8080/"
        },
        "id": "Ho-vNIXZ3sL-",
        "outputId": "14750b91-b3d2-48ca-bfa2-57623df64837"
      },
      "execution_count": 7,
      "outputs": [
        {
          "output_type": "stream",
          "name": "stdout",
          "text": [
            "random_state=42, k=3, Acurácia=0.7407407407407407\n",
            "random_state=42, k=5, Acurácia=0.7407407407407407\n",
            "random_state=17, k=3, Acurácia=0.6481481481481481\n",
            "random_state=17, k=5, Acurácia=0.6666666666666666\n",
            "random_state=24, k=3, Acurácia=0.7407407407407407\n",
            "random_state=24, k=5, Acurácia=0.6666666666666666\n",
            "\n",
            "Comparação Final:\n",
            "A melhor configuração foi random_state=42 e k=3 com acurácia de 0.7407\n",
            "\n",
            "Tabela de Resultados:\n",
            "random_state | k | Acurácia\n",
            "-----------------------------\n",
            "42 | 3 | 0.7407\n",
            "42 | 5 | 0.7407\n",
            "17 | 3 | 0.6481\n",
            "17 | 5 | 0.6667\n",
            "24 | 3 | 0.7407\n",
            "24 | 5 | 0.6667\n"
          ]
        }
      ]
    }
  ]
}