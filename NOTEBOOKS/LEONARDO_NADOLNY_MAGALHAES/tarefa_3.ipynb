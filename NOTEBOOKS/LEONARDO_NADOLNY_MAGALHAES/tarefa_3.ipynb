{
 "cells": [
  {
   "cell_type": "markdown",
   "metadata": {},
   "source": [
    "### 1: Configuração do Ambiente e Carregamento dos Dados"
   ]
  },
  {
   "cell_type": "code",
   "execution_count": 22,
   "metadata": {},
   "outputs": [
    {
     "name": "stdout",
     "output_type": "stream",
     "text": [
      "  classe  alcool  acido_malico  cinzas  alcalinidade_de_cinzas  magnesio  \\\n",
      "0      1   14.23          1.71    2.43                    15.6       127   \n",
      "1      1   13.20          1.78    2.14                    11.2       100   \n",
      "2      1   13.16          2.36    2.67                    18.6       101   \n",
      "3      1   14.37          1.95    2.50                    16.8       113   \n",
      "4      1   13.24          2.59    2.87                    21.0       118   \n",
      "\n",
      "   fenois_totais  flavanoides  fenois_nao_flavanoides  proantocianinas  \\\n",
      "0           2.80         3.06                    0.28             2.29   \n",
      "1           2.65         2.76                    0.26             1.28   \n",
      "2           2.80         3.24                    0.30             2.81   \n",
      "3           3.85         3.49                    0.24             2.18   \n",
      "4           2.80         2.69                    0.39             1.82   \n",
      "\n",
      "   intensidade_de_cor  matiz  od280_od315_de_vinhos_diluidos  prolina  \n",
      "0                5.64   1.04                            3.92     1065  \n",
      "1                4.38   1.05                            3.40     1050  \n",
      "2                5.68   1.03                            3.17     1185  \n",
      "3                7.80   0.86                            3.45     1480  \n",
      "4                4.32   1.04                            2.93      735  \n",
      "<class 'pandas.core.frame.DataFrame'>\n",
      "RangeIndex: 178 entries, 0 to 177\n",
      "Data columns (total 14 columns):\n",
      " #   Column                          Non-Null Count  Dtype  \n",
      "---  ------                          --------------  -----  \n",
      " 0   classe                          178 non-null    object \n",
      " 1   alcool                          178 non-null    float64\n",
      " 2   acido_malico                    178 non-null    float64\n",
      " 3   cinzas                          178 non-null    float64\n",
      " 4   alcalinidade_de_cinzas          178 non-null    float64\n",
      " 5   magnesio                        178 non-null    int64  \n",
      " 6   fenois_totais                   178 non-null    float64\n",
      " 7   flavanoides                     178 non-null    float64\n",
      " 8   fenois_nao_flavanoides          178 non-null    float64\n",
      " 9   proantocianinas                 178 non-null    float64\n",
      " 10  intensidade_de_cor              178 non-null    float64\n",
      " 11  matiz                           178 non-null    float64\n",
      " 12  od280_od315_de_vinhos_diluidos  178 non-null    float64\n",
      " 13  prolina                         178 non-null    int64  \n",
      "dtypes: float64(11), int64(2), object(1)\n",
      "memory usage: 19.6+ KB\n",
      "None\n"
     ]
    }
   ],
   "source": [
    "import pandas as pd\n",
    "import numpy as np\n",
    "from sklearn.model_selection import train_test_split\n",
    "from sklearn.neighbors import KNeighborsClassifier\n",
    "from sklearn.metrics import accuracy_score\n",
    "from collections import Counter\n",
    "\n",
    "\n",
    "url = 'https://archive.ics.uci.edu/ml/machine-learning-databases/wine/wine.data'\n",
    "\n",
    "\n",
    "column_names_pt_br = [\n",
    "    'classe',\n",
    "    'alcool',\n",
    "    'acido_malico',\n",
    "    'cinzas',\n",
    "    'alcalinidade_de_cinzas',\n",
    "    'magnesio',\n",
    "    'fenois_totais',\n",
    "    'flavanoides',\n",
    "    'fenois_nao_flavanoides',\n",
    "    'proantocianinas',\n",
    "    'intensidade_de_cor',\n",
    "    'matiz',\n",
    "    'od280_od315_de_vinhos_diluidos',\n",
    "    'prolina'\n",
    "]\n",
    "\n",
    "\n",
    "vinhos = pd.read_csv(url, names=column_names_pt_br, dtype={'classe': object})\n",
    "\n",
    "\n",
    "print(vinhos.head())\n",
    "print(vinhos.info())\n"
   ]
  },
  {
   "cell_type": "markdown",
   "metadata": {},
   "source": [
    "### 2: Separação dos Dados"
   ]
  },
  {
   "cell_type": "code",
   "execution_count": 23,
   "metadata": {},
   "outputs": [],
   "source": [
    "X = vinhos.drop('classe', axis=1)\n",
    "y = vinhos['classe']\n",
    "\n",
    "\n",
    "X_train, X_test, y_train, y_test = train_test_split(X, y, test_size=0.3, random_state=42)\n"
   ]
  },
  {
   "cell_type": "markdown",
   "metadata": {},
   "source": [
    "### 3: Treinamento e Avaliação do Modelo"
   ]
  },
  {
   "cell_type": "code",
   "execution_count": 24,
   "metadata": {},
   "outputs": [
    {
     "name": "stdout",
     "output_type": "stream",
     "text": [
      "Acurácia com k=3: 74.07%\n",
      "Acurácia com k=5: 74.07%\n",
      "Ambos os modelos com k=3 e k=5 apresentaram o mesmo desempenho, com uma acurácia de 74.07%. 🤝\n"
     ]
    }
   ],
   "source": [
    "def train_and_evaluate_knn(X_train, X_test, y_train, y_test, k):\n",
    "    knn = KNeighborsClassifier(n_neighbors=k)\n",
    "    knn.fit(X_train, y_train)\n",
    "    y_pred = knn.predict(X_test)\n",
    "    accuracy = accuracy_score(y_test, y_pred)\n",
    "    return accuracy\n",
    "\n",
    "\n",
    "accuracy_k3 = train_and_evaluate_knn(X_train, X_test, y_train, y_test, k=3)\n",
    "accuracy_k5 = train_and_evaluate_knn(X_train, X_test, y_train, y_test, k=5)\n",
    "\n",
    "\n",
    "print(f\"Acurácia com k=3: {accuracy_k3:.2%}\")\n",
    "print(f\"Acurácia com k=5: {accuracy_k5:.2%}\")\n",
    "\n",
    "if accuracy_k3 > accuracy_k5:\n",
    "    print(f\"O modelo com k=3 obteve melhor desempenho, com uma acurácia de {accuracy_k3:.2%},\")\n",
    "    print(f\"superando o modelo com k=5, que teve uma acurácia de {accuracy_k5:.2%}. 🚀\")\n",
    "elif accuracy_k3 < accuracy_k5:\n",
    "    print(f\"O modelo com k=5 obteve melhor desempenho, com uma acurácia de {accuracy_k5:.2%},\")\n",
    "    print(f\"superando o modelo com k=3, que teve uma acurácia de {accuracy_k3:.2%}. 🌟\")\n",
    "else:\n",
    "    print(f\"Ambos os modelos com k=3 e k=5 apresentaram o mesmo desempenho, com uma acurácia de {accuracy_k3:.2%}. 🤝\")\n"
   ]
  },
  {
   "cell_type": "markdown",
   "metadata": {},
   "source": [
    "### 4: Análise com Diferentes Valores de random_state"
   ]
  },
  {
   "cell_type": "code",
   "execution_count": 25,
   "metadata": {},
   "outputs": [
    {
     "name": "stdout",
     "output_type": "stream",
     "text": [
      "Resultados dos Experimentos com Diferentes random_state:\n",
      "==================================================\n",
      "Experimento 1:\n",
      "  Random State: 17\n",
      "  Acurácia com k=3: 64.81%\n",
      "  Acurácia com k=5: 66.67%\n",
      "  ➡️ Melhor desempenho: Modelo com k=5\n",
      "--------------------------------------------------\n",
      "Experimento 2:\n",
      "  Random State: 24\n",
      "  Acurácia com k=3: 74.07%\n",
      "  Acurácia com k=5: 66.67%\n",
      "  ➡️ Melhor desempenho: Modelo com k=3\n",
      "--------------------------------------------------\n",
      "Experimento 3:\n",
      "  Random State: 42\n",
      "  Acurácia com k=3: 74.07%\n",
      "  Acurácia com k=5: 74.07%\n",
      "  ➡️ Ambos os modelos apresentaram o mesmo desempenho\n",
      "--------------------------------------------------\n"
     ]
    }
   ],
   "source": [
    "random_states = [17, 24, 42]\n",
    "results = []\n",
    "\n",
    "\n",
    "for rs in random_states:\n",
    "    X_train, X_test, y_train, y_test = train_test_split(X, y, test_size=0.3, random_state=rs)\n",
    "\n",
    "    accuracy_k3 = train_and_evaluate_knn(X_train, X_test, y_train, y_test, k=3)\n",
    "    accuracy_k5 = train_and_evaluate_knn(X_train, X_test, y_train, y_test, k=5)\n",
    "\n",
    "    results.append({\n",
    "        'random_state': rs,\n",
    "        'accuracy_k3': accuracy_k3,\n",
    "        'accuracy_k5': accuracy_k5\n",
    "    })\n",
    "\n",
    "\n",
    "print(\"Resultados dos Experimentos com Diferentes random_state:\")\n",
    "print(\"=\" * 50)\n",
    "\n",
    "for i, result in enumerate(results, start=1):\n",
    "    print(f\"Experimento {i}:\")\n",
    "    print(f\"  Random State: {result['random_state']}\")\n",
    "    print(f\"  Acurácia com k=3: {result['accuracy_k3']:.2%}\")\n",
    "    print(f\"  Acurácia com k=5: {result['accuracy_k5']:.2%}\")\n",
    "    \n",
    "    if result['accuracy_k3'] > result['accuracy_k5']:\n",
    "        print(\"  ➡️ Melhor desempenho: Modelo com k=3\")\n",
    "    elif result['accuracy_k3'] < result['accuracy_k5']:\n",
    "        print(\"  ➡️ Melhor desempenho: Modelo com k=5\")\n",
    "    else:\n",
    "        print(\"  ➡️ Ambos os modelos apresentaram o mesmo desempenho\")\n",
    "    \n",
    "    print(\"-\" * 50)\n"
   ]
  },
  {
   "cell_type": "markdown",
   "metadata": {},
   "source": [
    "### 5: Comparação Final"
   ]
  },
  {
   "cell_type": "code",
   "execution_count": 26,
   "metadata": {},
   "outputs": [
    {
     "name": "stdout",
     "output_type": "stream",
     "text": [
      "\n",
      "=============================================\n",
      "Melhor configuração: random_state = 24, k = 3, Acurácia = 74.07%\n",
      "=============================================\n"
     ]
    }
   ],
   "source": [
    "final_results = {}\n",
    "\n",
    "for random_state in [17, 24, 42]: \n",
    "    X_train, X_test, y_train, y_test = train_test_split(X, y, test_size=0.3, random_state=random_state)\n",
    "    for k in [3, 5]:\n",
    "        knn = KNeighborsClassifier(n_neighbors=k)\n",
    "        knn.fit(X_train, y_train)\n",
    "        y_pred = knn.predict(X_test)\n",
    "        accuracy = accuracy_score(y_test, y_pred)\n",
    "        final_results[(random_state, k)] = accuracy\n",
    "\n",
    "\n",
    "best_random_state, best_k = max(final_results, key=final_results.get)\n",
    "best_accuracy = final_results[(best_random_state, best_k)]\n",
    "\n",
    "\n",
    "print(\"\\n=============================================\")\n",
    "print(f\"Melhor configuração: random_state = {best_random_state}, k = {best_k}, Acurácia = {best_accuracy:.2%}\")\n",
    "print(\"=============================================\")\n"
   ]
  }
 ],
 "metadata": {
  "kernelspec": {
   "display_name": "Python 3",
   "language": "python",
   "name": "python3"
  },
  "language_info": {
   "codemirror_mode": {
    "name": "ipython",
    "version": 3
   },
   "file_extension": ".py",
   "mimetype": "text/x-python",
   "name": "python",
   "nbconvert_exporter": "python",
   "pygments_lexer": "ipython3",
   "version": "3.11.4"
  }
 },
 "nbformat": 4,
 "nbformat_minor": 2
}
