{
 "cells": [
  {
   "cell_type": "markdown",
   "metadata": {},
   "source": [
    "### Passo 1: Leitura dos Dados"
   ]
  },
  {
   "cell_type": "code",
   "execution_count": 6,
   "metadata": {},
   "outputs": [
    {
     "name": "stdout",
     "output_type": "stream",
     "text": [
      "  classe  alcool  acido_malico  cinzas  alcalinidade_de_cinzas  magnesio  \\\n",
      "0      1   14.23          1.71    2.43                    15.6       127   \n",
      "1      1   13.20          1.78    2.14                    11.2       100   \n",
      "2      1   13.16          2.36    2.67                    18.6       101   \n",
      "3      1   14.37          1.95    2.50                    16.8       113   \n",
      "4      1   13.24          2.59    2.87                    21.0       118   \n",
      "\n",
      "   fenois_totais  flavanoides  fenois_nao_flavanoides  proantocianinas  \\\n",
      "0           2.80         3.06                    0.28             2.29   \n",
      "1           2.65         2.76                    0.26             1.28   \n",
      "2           2.80         3.24                    0.30             2.81   \n",
      "3           3.85         3.49                    0.24             2.18   \n",
      "4           2.80         2.69                    0.39             1.82   \n",
      "\n",
      "   intensidade_de_cor  matiz  od280_od315_de_vinhos_diluidos  prolina  \n",
      "0                5.64   1.04                            3.92     1065  \n",
      "1                4.38   1.05                            3.40     1050  \n",
      "2                5.68   1.03                            3.17     1185  \n",
      "3                7.80   0.86                            3.45     1480  \n",
      "4                4.32   1.04                            2.93      735  \n"
     ]
    }
   ],
   "source": [
    "import pandas as pd\n",
    "from sklearn.model_selection import KFold\n",
    "from sklearn.neighbors import KNeighborsClassifier\n",
    "from sklearn.metrics import accuracy_score\n",
    "import numpy as np\n",
    "\n",
    "url = 'https://archive.ics.uci.edu/ml/machine-learning-databases/wine/wine.data'\n",
    "\n",
    "column_names_pt_br = [\n",
    "    'classe',\n",
    "    'alcool',\n",
    "    'acido_malico',\n",
    "    'cinzas',\n",
    "    'alcalinidade_de_cinzas',\n",
    "    'magnesio',\n",
    "    'fenois_totais',\n",
    "    'flavanoides',\n",
    "    'fenois_nao_flavanoides',\n",
    "    'proantocianinas',\n",
    "    'intensidade_de_cor',\n",
    "    'matiz',\n",
    "    'od280_od315_de_vinhos_diluidos',\n",
    "    'prolina'\n",
    "]\n",
    "\n",
    "vinhos = pd.read_csv(url, names=column_names_pt_br, dtype={'classe': object})\n",
    "\n",
    "print(vinhos.head())"
   ]
  },
  {
   "cell_type": "markdown",
   "metadata": {},
   "source": [
    "### Passo 2: Pré-processamento dos Dados"
   ]
  },
  {
   "cell_type": "code",
   "execution_count": 7,
   "metadata": {},
   "outputs": [],
   "source": [
    "X = vinhos.drop('classe', axis=1)\n",
    "y = vinhos['classe']"
   ]
  },
  {
   "cell_type": "markdown",
   "metadata": {},
   "source": [
    "### Passo 3: Configuração do Experimento"
   ]
  },
  {
   "cell_type": "code",
   "execution_count": 8,
   "metadata": {},
   "outputs": [],
   "source": [
    "random_states = [42, 17, 24]\n",
    "ks = [3, 5]\n",
    "results = []"
   ]
  },
  {
   "cell_type": "markdown",
   "metadata": {},
   "source": [
    "### Passo 4: Estrutura de Cross-Validation com KFold"
   ]
  },
  {
   "cell_type": "code",
   "execution_count": 9,
   "metadata": {},
   "outputs": [
    {
     "name": "stdout",
     "output_type": "stream",
     "text": [
      "\n",
      "Resultados para random_state = 42\n",
      "==================================================\n",
      "k = 3\n",
      "  Média da Acurácia: 70.36%\n",
      "  Desvio Padrão: 13.92%\n",
      "--------------------------------------------------\n",
      "k = 5\n",
      "  Média da Acurácia: 66.41%\n",
      "  Desvio Padrão: 10.01%\n",
      "--------------------------------------------------\n",
      "\n",
      "Resultados para random_state = 17\n",
      "==================================================\n",
      "k = 3\n",
      "  Média da Acurácia: 69.87%\n",
      "  Desvio Padrão: 10.40%\n",
      "--------------------------------------------------\n",
      "k = 5\n",
      "  Média da Acurácia: 68.76%\n",
      "  Desvio Padrão: 11.21%\n",
      "--------------------------------------------------\n",
      "\n",
      "Resultados para random_state = 24\n",
      "==================================================\n",
      "k = 3\n",
      "  Média da Acurácia: 71.27%\n",
      "  Desvio Padrão: 9.68%\n",
      "--------------------------------------------------\n",
      "k = 5\n",
      "  Média da Acurácia: 71.27%\n",
      "  Desvio Padrão: 9.40%\n",
      "--------------------------------------------------\n"
     ]
    }
   ],
   "source": [
    "for random_state in random_states:\n",
    "    print(f\"\\nResultados para random_state = {random_state}\")\n",
    "    print(\"=\" * 50)\n",
    "    \n",
    "    kf = KFold(n_splits=10, shuffle=True, random_state=random_state)\n",
    "    for k in ks:\n",
    "        fold_accuracies = []\n",
    "        for train_index, test_index in kf.split(X):\n",
    "            X_train, X_test = X.iloc[train_index], X.iloc[test_index]\n",
    "            y_train, y_test = y.iloc[train_index], y.iloc[test_index]\n",
    "\n",
    "            knn = KNeighborsClassifier(n_neighbors=k)\n",
    "            knn.fit(X_train, y_train)\n",
    "            y_pred = knn.predict(X_test)\n",
    "            accuracy = accuracy_score(y_test, y_pred)\n",
    "            fold_accuracies.append(accuracy)\n",
    "\n",
    "        mean_accuracy = np.mean(fold_accuracies)\n",
    "        std_accuracy = np.std(fold_accuracies)\n",
    "        results.append({\n",
    "            'random_state': random_state,\n",
    "            'k': k,\n",
    "            'mean_accuracy': mean_accuracy,\n",
    "            'std_accuracy': std_accuracy\n",
    "        })\n",
    "\n",
    "        print(f\"k = {k}\")\n",
    "        print(f\"  Média da Acurácia: {mean_accuracy:.2%}\")\n",
    "        print(f\"  Desvio Padrão: {std_accuracy:.2%}\")\n",
    "        print(\"-\" * 50)\n"
   ]
  },
  {
   "cell_type": "markdown",
   "metadata": {},
   "source": [
    "### Passo 5: Análise dos Resultados"
   ]
  },
  {
   "cell_type": "code",
   "execution_count": 10,
   "metadata": {},
   "outputs": [
    {
     "name": "stdout",
     "output_type": "stream",
     "text": [
      "\n",
      "Resumo Final dos Resultados\n",
      "==================================================\n",
      "Random State: 42\n",
      "  Melhor k: 3\n",
      "  Média da Acurácia: 70.36%\n",
      "  Desvio Padrão: 13.92%\n",
      "--------------------------------------------------\n",
      "Random State: 17\n",
      "  Melhor k: 3\n",
      "  Média da Acurácia: 69.87%\n",
      "  Desvio Padrão: 10.40%\n",
      "--------------------------------------------------\n",
      "Random State: 24\n",
      "  Melhor k: 3\n",
      "  Média da Acurácia: 71.27%\n",
      "  Desvio Padrão: 9.68%\n",
      "  Observação: Empate observado para esta configuração.\n",
      "--------------------------------------------------\n"
     ]
    }
   ],
   "source": [
    "# Identificar a melhor configuração por random_state\n",
    "best_results = {}\n",
    "\n",
    "for result in results:\n",
    "    rs = result['random_state']\n",
    "    k = result['k']\n",
    "    mean_acc = result['mean_accuracy']\n",
    "\n",
    "    if rs not in best_results or mean_acc > best_results[rs]['mean_accuracy']:\n",
    "        best_results[rs] = result\n",
    "    elif mean_acc == best_results[rs]['mean_accuracy']:\n",
    "        best_results[rs]['tie'] = True\n",
    "\n",
    "# Exibir os resultados de forma organizada\n",
    "print(\"\\nResumo Final dos Resultados\")\n",
    "print(\"=\" * 50)\n",
    "\n",
    "for rs, result in best_results.items():\n",
    "    print(f\"Random State: {rs}\")\n",
    "    print(f\"  Melhor k: {result['k']}\")\n",
    "    print(f\"  Média da Acurácia: {result['mean_accuracy']:.2%}\")\n",
    "    print(f\"  Desvio Padrão: {result['std_accuracy']:.2%}\")\n",
    "    if 'tie' in result:\n",
    "        print(\"  Observação: Empate observado para esta configuração.\")\n",
    "    print(\"-\" * 50)\n"
   ]
  }
 ],
 "metadata": {
  "kernelspec": {
   "display_name": "Python 3",
   "language": "python",
   "name": "python3"
  },
  "language_info": {
   "codemirror_mode": {
    "name": "ipython",
    "version": 3
   },
   "file_extension": ".py",
   "mimetype": "text/x-python",
   "name": "python",
   "nbconvert_exporter": "python",
   "pygments_lexer": "ipython3",
   "version": "3.11.4"
  }
 },
 "nbformat": 4,
 "nbformat_minor": 2
}
