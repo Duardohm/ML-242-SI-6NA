{
 "cells": [
  {
   "cell_type": "markdown",
   "metadata": {},
   "source": [
    "### Passo 1: Normalização dos Dados"
   ]
  },
  {
   "cell_type": "code",
   "execution_count": 3,
   "metadata": {},
   "outputs": [],
   "source": [
    "from sklearn.preprocessing import MinMaxScaler\n",
    "import pandas as pd\n",
    "\n",
    "url = 'https://archive.ics.uci.edu/ml/machine-learning-databases/wine/wine.data'\n",
    "\n",
    "column_names_pt_br = [\n",
    "    'classe',\n",
    "    'alcool',\n",
    "    'acido_malico',\n",
    "    'cinzas',\n",
    "    'alcalinidade_de_cinzas',\n",
    "    'magnesio',\n",
    "    'fenois_totais',\n",
    "    'flavanoides',\n",
    "    'fenois_nao_flavanoides',\n",
    "    'proantocianinas',\n",
    "    'intensidade_de_cor',\n",
    "    'matiz',\n",
    "    'od280_od315_de_vinhos_diluidos',\n",
    "    'prolina'\n",
    "]\n",
    "\n",
    "vinhos = pd.read_csv(url, names=column_names_pt_br, dtype={'classe': object})\n",
    "\n",
    "# Dropar a coluna 'classe'\n",
    "X = vinhos.drop('classe', axis=1)\n",
    "\n",
    "# Reescala linear dos dados\n",
    "scaler = MinMaxScaler()\n",
    "X_scaled = scaler.fit_transform(X)"
   ]
  },
  {
   "cell_type": "markdown",
   "metadata": {},
   "source": [
    "### Passo 2: Aplicação do K-Means"
   ]
  },
  {
   "cell_type": "code",
   "execution_count": 4,
   "metadata": {},
   "outputs": [
    {
     "name": "stdout",
     "output_type": "stream",
     "text": [
      "Inércia do modelo K-Means: 44.89\n"
     ]
    }
   ],
   "source": [
    "from sklearn.cluster import KMeans\n",
    "\n",
    "# Aplicar K-Means com 4 clusters\n",
    "kmeans = KMeans(n_clusters=4, random_state=42)\n",
    "vinhos['cluster'] = kmeans.fit_predict(X_scaled)\n",
    "\n",
    "# Apresentar o valor da inércia\n",
    "print(f\"Inércia do modelo K-Means: {kmeans.inertia_:.2f}\")\n"
   ]
  },
  {
   "cell_type": "markdown",
   "metadata": {},
   "source": [
    "### Passo 3: Análise dos Clusters"
   ]
  },
  {
   "cell_type": "code",
   "execution_count": 5,
   "metadata": {},
   "outputs": [
    {
     "name": "stdout",
     "output_type": "stream",
     "text": [
      "\n",
      "Distribuição dos clusters:\n",
      "==================================================\n",
      "Cluster 2: 59 elementos\n",
      "Cluster 1: 50 elementos\n",
      "Cluster 0: 36 elementos\n",
      "Cluster 3: 33 elementos\n",
      "==================================================\n"
     ]
    }
   ],
   "source": [
    "print(\"\\nDistribuição dos clusters:\")\n",
    "print(\"=\" * 50)\n",
    "cluster_counts = vinhos['cluster'].value_counts()\n",
    "for cluster, count in cluster_counts.items():\n",
    "    print(f\"Cluster {cluster}: {count} elementos\")\n",
    "print(\"=\" * 50)\n"
   ]
  },
  {
   "cell_type": "markdown",
   "metadata": {},
   "source": [
    "### Passo 4: Comparação com Classes Originais"
   ]
  },
  {
   "cell_type": "code",
   "execution_count": 6,
   "metadata": {},
   "outputs": [
    {
     "name": "stdout",
     "output_type": "stream",
     "text": [
      "\n",
      "Comparação entre clusters e classes originais (groupby):\n",
      "==================================================\n",
      "cluster  classe\n",
      "0        2         34\n",
      "         1          2\n",
      "1        3         48\n",
      "         2          2\n",
      "2        1         57\n",
      "         2          2\n",
      "3        2         33\n",
      "Name: count, dtype: int64\n",
      "\n",
      "Comparação entre clusters e classes originais (crosstab):\n",
      "==================================================\n",
      "cluster   0   1   2   3\n",
      "classe                 \n",
      "1         2   0  57   0\n",
      "2        34   2   2  33\n",
      "3         0  48   0   0\n"
     ]
    }
   ],
   "source": [
    "print(\"\\nComparação entre clusters e classes originais (groupby):\")\n",
    "print(\"=\" * 50)\n",
    "comparacao_groupby = vinhos.groupby('cluster')['classe'].value_counts()\n",
    "print(comparacao_groupby)\n",
    "\n",
    "\n",
    "print(\"\\nComparação entre clusters e classes originais (crosstab):\")\n",
    "print(\"=\" * 50)\n",
    "comparacao_crosstab = pd.crosstab(vinhos['classe'], vinhos['cluster'])\n",
    "print(comparacao_crosstab)\n"
   ]
  }
 ],
 "metadata": {
  "kernelspec": {
   "display_name": "Python 3",
   "language": "python",
   "name": "python3"
  },
  "language_info": {
   "codemirror_mode": {
    "name": "ipython",
    "version": 3
   },
   "file_extension": ".py",
   "mimetype": "text/x-python",
   "name": "python",
   "nbconvert_exporter": "python",
   "pygments_lexer": "ipython3",
   "version": "3.11.4"
  }
 },
 "nbformat": 4,
 "nbformat_minor": 2
}
