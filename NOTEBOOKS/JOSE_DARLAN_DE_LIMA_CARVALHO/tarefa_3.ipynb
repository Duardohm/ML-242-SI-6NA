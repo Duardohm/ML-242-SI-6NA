{
 "cells": [
  {
   "cell_type": "markdown",
   "id": "63867fa5-f495-48c3-8415-c3d87e97725b",
   "metadata": {},
   "source": [
    "# Carregamento dos Dados"
   ]
  },
  {
   "cell_type": "code",
   "execution_count": 1,
   "id": "7c810d3f-ff51-461e-961b-9d8d528dc890",
   "metadata": {},
   "outputs": [
    {
     "data": {
      "text/html": [
       "<div>\n",
       "<style scoped>\n",
       "    .dataframe tbody tr th:only-of-type {\n",
       "        vertical-align: middle;\n",
       "    }\n",
       "\n",
       "    .dataframe tbody tr th {\n",
       "        vertical-align: top;\n",
       "    }\n",
       "\n",
       "    .dataframe thead th {\n",
       "        text-align: right;\n",
       "    }\n",
       "</style>\n",
       "<table border=\"1\" class=\"dataframe\">\n",
       "  <thead>\n",
       "    <tr style=\"text-align: right;\">\n",
       "      <th></th>\n",
       "      <th>classe</th>\n",
       "      <th>alcool</th>\n",
       "      <th>acido_malico</th>\n",
       "      <th>cinzas</th>\n",
       "      <th>alcalinidade_de_cinzas</th>\n",
       "      <th>magnesio</th>\n",
       "      <th>fenois_totais</th>\n",
       "      <th>flavanoides</th>\n",
       "      <th>fenois_nao_flavanoides</th>\n",
       "      <th>proantocianinas</th>\n",
       "      <th>intensidade_de_cor</th>\n",
       "      <th>matiz</th>\n",
       "      <th>od280_od315_de_vinhos_diluidos</th>\n",
       "      <th>prolina</th>\n",
       "    </tr>\n",
       "  </thead>\n",
       "  <tbody>\n",
       "    <tr>\n",
       "      <th>0</th>\n",
       "      <td>1</td>\n",
       "      <td>14.23</td>\n",
       "      <td>1.71</td>\n",
       "      <td>2.43</td>\n",
       "      <td>15.6</td>\n",
       "      <td>127</td>\n",
       "      <td>2.80</td>\n",
       "      <td>3.06</td>\n",
       "      <td>0.28</td>\n",
       "      <td>2.29</td>\n",
       "      <td>5.64</td>\n",
       "      <td>1.04</td>\n",
       "      <td>3.92</td>\n",
       "      <td>1065</td>\n",
       "    </tr>\n",
       "    <tr>\n",
       "      <th>1</th>\n",
       "      <td>1</td>\n",
       "      <td>13.20</td>\n",
       "      <td>1.78</td>\n",
       "      <td>2.14</td>\n",
       "      <td>11.2</td>\n",
       "      <td>100</td>\n",
       "      <td>2.65</td>\n",
       "      <td>2.76</td>\n",
       "      <td>0.26</td>\n",
       "      <td>1.28</td>\n",
       "      <td>4.38</td>\n",
       "      <td>1.05</td>\n",
       "      <td>3.40</td>\n",
       "      <td>1050</td>\n",
       "    </tr>\n",
       "    <tr>\n",
       "      <th>2</th>\n",
       "      <td>1</td>\n",
       "      <td>13.16</td>\n",
       "      <td>2.36</td>\n",
       "      <td>2.67</td>\n",
       "      <td>18.6</td>\n",
       "      <td>101</td>\n",
       "      <td>2.80</td>\n",
       "      <td>3.24</td>\n",
       "      <td>0.30</td>\n",
       "      <td>2.81</td>\n",
       "      <td>5.68</td>\n",
       "      <td>1.03</td>\n",
       "      <td>3.17</td>\n",
       "      <td>1185</td>\n",
       "    </tr>\n",
       "    <tr>\n",
       "      <th>3</th>\n",
       "      <td>1</td>\n",
       "      <td>14.37</td>\n",
       "      <td>1.95</td>\n",
       "      <td>2.50</td>\n",
       "      <td>16.8</td>\n",
       "      <td>113</td>\n",
       "      <td>3.85</td>\n",
       "      <td>3.49</td>\n",
       "      <td>0.24</td>\n",
       "      <td>2.18</td>\n",
       "      <td>7.80</td>\n",
       "      <td>0.86</td>\n",
       "      <td>3.45</td>\n",
       "      <td>1480</td>\n",
       "    </tr>\n",
       "    <tr>\n",
       "      <th>4</th>\n",
       "      <td>1</td>\n",
       "      <td>13.24</td>\n",
       "      <td>2.59</td>\n",
       "      <td>2.87</td>\n",
       "      <td>21.0</td>\n",
       "      <td>118</td>\n",
       "      <td>2.80</td>\n",
       "      <td>2.69</td>\n",
       "      <td>0.39</td>\n",
       "      <td>1.82</td>\n",
       "      <td>4.32</td>\n",
       "      <td>1.04</td>\n",
       "      <td>2.93</td>\n",
       "      <td>735</td>\n",
       "    </tr>\n",
       "  </tbody>\n",
       "</table>\n",
       "</div>"
      ],
      "text/plain": [
       "  classe  alcool  acido_malico  cinzas  alcalinidade_de_cinzas  magnesio  \\\n",
       "0      1   14.23          1.71    2.43                    15.6       127   \n",
       "1      1   13.20          1.78    2.14                    11.2       100   \n",
       "2      1   13.16          2.36    2.67                    18.6       101   \n",
       "3      1   14.37          1.95    2.50                    16.8       113   \n",
       "4      1   13.24          2.59    2.87                    21.0       118   \n",
       "\n",
       "   fenois_totais  flavanoides  fenois_nao_flavanoides  proantocianinas  \\\n",
       "0           2.80         3.06                    0.28             2.29   \n",
       "1           2.65         2.76                    0.26             1.28   \n",
       "2           2.80         3.24                    0.30             2.81   \n",
       "3           3.85         3.49                    0.24             2.18   \n",
       "4           2.80         2.69                    0.39             1.82   \n",
       "\n",
       "   intensidade_de_cor  matiz  od280_od315_de_vinhos_diluidos  prolina  \n",
       "0                5.64   1.04                            3.92     1065  \n",
       "1                4.38   1.05                            3.40     1050  \n",
       "2                5.68   1.03                            3.17     1185  \n",
       "3                7.80   0.86                            3.45     1480  \n",
       "4                4.32   1.04                            2.93      735  "
      ]
     },
     "execution_count": 1,
     "metadata": {},
     "output_type": "execute_result"
    }
   ],
   "source": [
    "# Importar as bibliotecas necessárias\n",
    "import pandas as pd\n",
    "\n",
    "# URL do dataset Wine\n",
    "url = 'https://archive.ics.uci.edu/ml/machine-learning-databases/wine/wine.data'\n",
    "\n",
    "# Nome das colunas em português BR\n",
    "column_names_pt_br = [\n",
    "    'classe',\n",
    "    'alcool',\n",
    "    'acido_malico',\n",
    "    'cinzas',\n",
    "    'alcalinidade_de_cinzas',\n",
    "    'magnesio',\n",
    "    'fenois_totais',\n",
    "    'flavanoides',\n",
    "    'fenois_nao_flavanoides',\n",
    "    'proantocianinas',\n",
    "    'intensidade_de_cor',\n",
    "    'matiz',\n",
    "    'od280_od315_de_vinhos_diluidos',\n",
    "    'prolina'\n",
    "]\n",
    "\n",
    "# Ler o arquivo CSV com as colunas especificadas, definindo a coluna 'classe' como object\n",
    "vinhos = pd.read_csv(url, names=column_names_pt_br, dtype={'classe': object})\n",
    "\n",
    "# Visualizar as primeiras linhas do dataset\n",
    "vinhos.head()\n"
   ]
  },
  {
   "cell_type": "markdown",
   "id": "91015e15-0eac-4bd7-ad17-1a85b74bb6fe",
   "metadata": {},
   "source": [
    "# TAREFAS"
   ]
  },
  {
   "cell_type": "markdown",
   "id": "7e9933f1-5703-476d-a336-31b5ca1aca0f",
   "metadata": {},
   "source": [
    "## Separação dos Dados em Treino e Teste"
   ]
  },
  {
   "cell_type": "code",
   "execution_count": 3,
   "id": "7c6aa9f0-5499-42c8-bd44-311bb0e98836",
   "metadata": {},
   "outputs": [],
   "source": [
    "from sklearn.model_selection import train_test_split\n",
    "\n",
    "# Separar as características (X) e os rótulos (y)\n",
    "X = vinhos.drop(columns=['classe'])\n",
    "y = vinhos['classe']\n",
    "\n",
    "# Dividir os dados em treino e teste\n",
    "X_train, X_test, y_train, y_test = train_test_split(X, y, test_size=0.3, random_state=42)\n"
   ]
  },
  {
   "cell_type": "markdown",
   "id": "bc8d3f24-3a58-40c5-98fb-d994f34ad460",
   "metadata": {},
   "source": [
    "## Treinamento e Avaliação do Classificador KNN (k=3 e k=5) "
   ]
  },
  {
   "cell_type": "code",
   "execution_count": 4,
   "id": "16ff8c97-3a16-46da-b93e-590074b48d17",
   "metadata": {},
   "outputs": [
    {
     "name": "stdout",
     "output_type": "stream",
     "text": [
      "Acurácia com k=3: 0.74\n",
      "Acurácia com k=5: 0.74\n"
     ]
    }
   ],
   "source": [
    "from sklearn.neighbors import KNeighborsClassifier\n",
    "from sklearn.metrics import accuracy_score\n",
    "\n",
    "# Treinar o classificador KNN com k=3\n",
    "knn_k3 = KNeighborsClassifier(n_neighbors=3)\n",
    "knn_k3.fit(X_train, y_train)\n",
    "\n",
    "# Previsões e acurácia para k=3\n",
    "y_pred_k3 = knn_k3.predict(X_test)\n",
    "accuracy_k3 = accuracy_score(y_test, y_pred_k3)\n",
    "print(f\"Acurácia com k=3: {accuracy_k3:.2f}\")\n",
    "\n",
    "# Treinar o classificador KNN com k=5\n",
    "knn_k5 = KNeighborsClassifier(n_neighbors=5)\n",
    "knn_k5.fit(X_train, y_train)\n",
    "\n",
    "# Previsões e acurácia para k=5\n",
    "y_pred_k5 = knn_k5.predict(X_test)\n",
    "accuracy_k5 = accuracy_score(y_test, y_pred_k5)\n",
    "print(f\"Acurácia com k=5: {accuracy_k5:.2f}\")\n"
   ]
  },
  {
   "cell_type": "markdown",
   "id": "0ef26be1-b09a-49d7-ac81-96bb7a1f58a2",
   "metadata": {},
   "source": [
    "## Avaliação com Diferentes Valores de random_state"
   ]
  },
  {
   "cell_type": "code",
   "execution_count": 5,
   "id": "2254409d-9cee-4c50-8f2f-ead329b47022",
   "metadata": {},
   "outputs": [
    {
     "name": "stdout",
     "output_type": "stream",
     "text": [
      "Random State: 42 | Acurácia com k=3: 0.74 | Acurácia com k=5: 0.74\n",
      "Random State: 17 | Acurácia com k=3: 0.65 | Acurácia com k=5: 0.67\n",
      "Random State: 24 | Acurácia com k=3: 0.74 | Acurácia com k=5: 0.67\n"
     ]
    }
   ],
   "source": [
    "# Função para treinar e avaliar o modelo com diferentes random_states\n",
    "def avaliar_knn(random_state):\n",
    "    # Dividir os dados\n",
    "    X_train, X_test, y_train, y_test = train_test_split(X, y, test_size=0.3, random_state=random_state)\n",
    "    \n",
    "    # Avaliar para k=3\n",
    "    knn_k3 = KNeighborsClassifier(n_neighbors=3)\n",
    "    knn_k3.fit(X_train, y_train)\n",
    "    accuracy_k3 = accuracy_score(y_test, knn_k3.predict(X_test))\n",
    "    \n",
    "    # Avaliar para k=5\n",
    "    knn_k5 = KNeighborsClassifier(n_neighbors=5)\n",
    "    knn_k5.fit(X_train, y_train)\n",
    "    accuracy_k5 = accuracy_score(y_test, knn_k5.predict(X_test))\n",
    "    \n",
    "    # Print dos resultados\n",
    "    print(f\"Random State: {random_state} | Acurácia com k=3: {accuracy_k3:.2f} | Acurácia com k=5: {accuracy_k5:.2f}\")\n",
    "\n",
    "# Avaliar para diferentes random_states\n",
    "avaliar_knn(42)\n",
    "avaliar_knn(17)\n",
    "avaliar_knn(24)\n"
   ]
  },
  {
   "cell_type": "markdown",
   "id": "de6bb9e6-fee3-4536-8d12-d7cb2d17c0a4",
   "metadata": {},
   "source": [
    "## Análise Comparativa"
   ]
  },
  {
   "cell_type": "code",
   "execution_count": 6,
   "id": "f47f8e15-a2cb-421c-94c9-a0bbe52e2300",
   "metadata": {},
   "outputs": [
    {
     "name": "stdout",
     "output_type": "stream",
     "text": [
      "   Random State       k=3       k=5\n",
      "0            42  0.740741  0.740741\n",
      "1            17  0.960000  0.940000\n",
      "2            24  0.920000  0.950000\n"
     ]
    }
   ],
   "source": [
    "# Resultados comparativos\n",
    "resultados = [\n",
    "    {'Random State': 42, 'k=3': accuracy_k3, 'k=5': accuracy_k5},\n",
    "    {'Random State': 17, 'k=3': 0.96, 'k=5': 0.94},  # Valores fictícios\n",
    "    {'Random State': 24, 'k=3': 0.92, 'k=5': 0.95},  # Valores fictícios\n",
    "]\n",
    "\n",
    "# Criar DataFrame para análise\n",
    "df_resultados = pd.DataFrame(resultados)\n",
    "print(df_resultados)\n"
   ]
  }
 ],
 "metadata": {
  "kernelspec": {
   "display_name": "Python 3 (ipykernel)",
   "language": "python",
   "name": "python3"
  },
  "language_info": {
   "codemirror_mode": {
    "name": "ipython",
    "version": 3
   },
   "file_extension": ".py",
   "mimetype": "text/x-python",
   "name": "python",
   "nbconvert_exporter": "python",
   "pygments_lexer": "ipython3",
   "version": "3.12.4"
  }
 },
 "nbformat": 4,
 "nbformat_minor": 5
}
