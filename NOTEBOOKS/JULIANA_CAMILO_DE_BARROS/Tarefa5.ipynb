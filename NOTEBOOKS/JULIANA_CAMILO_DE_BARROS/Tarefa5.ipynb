{
  "nbformat": 4,
  "nbformat_minor": 0,
  "metadata": {
    "colab": {
      "provenance": []
    },
    "kernelspec": {
      "name": "python3",
      "display_name": "Python 3"
    },
    "language_info": {
      "name": "python"
    }
  },
  "cells": [
    {
      "cell_type": "code",
      "execution_count": null,
      "metadata": {
        "id": "aswW4Lkz1m4X"
      },
      "outputs": [],
      "source": [
        "\n"
      ]
    },
    {
      "cell_type": "markdown",
      "source": [
        "# Agrupamento com K-Means no Dataset de Vinhos\n",
        "Este notebook implementa o algoritmo **K-Means** para agrupar o conjunto de dados de vinhos em **4 clusters**. A seguir, comparamos os clusters gerados pelo modelo com as classes originais presentes no conjunto de dados.\n",
        "\n",
        "### Objetivos:\n",
        "1. Reescalar os dados para o intervalo (0, 1) utilizando MinMaxScaler.\n",
        "2. Agrupar os dados em 4 clusters usando o algoritmo K-Means.\n",
        "3. Analisar a distribuição dos clusters e compará-los com as classes originais.\n"
      ],
      "metadata": {
        "id": "2TrHnr_z1s5B"
      }
    },
    {
      "cell_type": "code",
      "source": [
        "#Importação das bibliotecas\n",
        "\n",
        "import pandas as pd\n",
        "from sklearn.preprocessing import MinMaxScaler\n",
        "from sklearn.cluster import KMeans\n"
      ],
      "metadata": {
        "id": "kdsZRAJ710VP"
      },
      "execution_count": 1,
      "outputs": []
    },
    {
      "cell_type": "code",
      "source": [
        "#Carregamento e pré-processamento de dados\n",
        "\n",
        "# URL do dataset Wine\n",
        "url = 'https://archive.ics.uci.edu/ml/machine-learning-databases/wine/wine.data'\n",
        "\n",
        "# Nome das colunas em português BR\n",
        "column_names_pt_br = [\n",
        "    'classe',\n",
        "    'alcool',\n",
        "    'acido_malico',\n",
        "    'cinzas',\n",
        "    'alcalinidade_de_cinzas',\n",
        "    'magnesio',\n",
        "    'fenois_totais',\n",
        "    'flavanoides',\n",
        "    'fenois_nao_flavanoides',\n",
        "    'proantocianinas',\n",
        "    'intensidade_de_cor',\n",
        "    'matiz',\n",
        "    'od280_od315_de_vinhos_diluidos',\n",
        "    'prolina'\n",
        "]\n",
        "\n",
        "# Carregar os dados\n",
        "vinhos = pd.read_csv(url, names=column_names_pt_br, dtype={'classe': object})\n",
        "\n",
        "# Separar a variável target 'classe' e as features\n",
        "X = vinhos.drop('classe', axis=1)\n",
        "\n",
        "# Normalização dos dados\n",
        "scaler = MinMaxScaler()\n",
        "X_scaled = scaler.fit_transform(X)\n"
      ],
      "metadata": {
        "id": "Zk7dxSTb14JX"
      },
      "execution_count": 2,
      "outputs": []
    },
    {
      "cell_type": "code",
      "source": [
        "# Aplicação do K-Means\n",
        "kmeans = KMeans(n_clusters=4, random_state=42)\n",
        "vinhos['cluster'] = kmeans.fit_predict(X_scaled)\n",
        "\n",
        "# Exibição do valor da inércia\n",
        "print(f\"Inércia do modelo K-Means: {kmeans.inertia_}\")\n"
      ],
      "metadata": {
        "colab": {
          "base_uri": "https://localhost:8080/"
        },
        "id": "rv36_nNr18fW",
        "outputId": "cccf91c0-30a8-4491-c7e0-4ce8491e4084"
      },
      "execution_count": 4,
      "outputs": [
        {
          "output_type": "stream",
          "name": "stdout",
          "text": [
            "Inércia do modelo K-Means: 44.887604580852816\n"
          ]
        }
      ]
    },
    {
      "cell_type": "code",
      "source": [
        "#Análise dos clusters\n",
        "\n",
        "# Contagem dos clusters\n",
        "print(\"Contagem de dados por cluster:\")\n",
        "print(vinhos['cluster'].value_counts())\n"
      ],
      "metadata": {
        "colab": {
          "base_uri": "https://localhost:8080/"
        },
        "id": "MQJgn4Cw1-pO",
        "outputId": "d50d8780-9af6-4b4c-abcf-6de181a268e2"
      },
      "execution_count": 5,
      "outputs": [
        {
          "output_type": "stream",
          "name": "stdout",
          "text": [
            "Contagem de dados por cluster:\n",
            "cluster\n",
            "2    59\n",
            "1    50\n",
            "0    36\n",
            "3    33\n",
            "Name: count, dtype: int64\n"
          ]
        }
      ]
    },
    {
      "cell_type": "code",
      "source": [
        "#Comparação com classes originais\n",
        "\n",
        "# Comparação dos clusters com as classes originais\n",
        "# Usando groupby()\n",
        "comparacao_groupby = vinhos.groupby('cluster')['classe'].value_counts()\n",
        "print(\"\\nComparação usando groupby():\")\n",
        "print(comparacao_groupby)\n",
        "\n",
        "# Usando pd.crosstab\n",
        "comparacao_crosstab = pd.crosstab(vinhos['classe'], vinhos['cluster'])\n",
        "print(\"\\nComparação usando crosstab:\")\n",
        "print(comparacao_crosstab)\n"
      ],
      "metadata": {
        "colab": {
          "base_uri": "https://localhost:8080/"
        },
        "id": "IkiWru8l2CHG",
        "outputId": "4727d261-e6cf-4275-a50a-06e58f5fba45"
      },
      "execution_count": 6,
      "outputs": [
        {
          "output_type": "stream",
          "name": "stdout",
          "text": [
            "\n",
            "Comparação usando groupby():\n",
            "cluster  classe\n",
            "0        2         34\n",
            "         1          2\n",
            "1        3         48\n",
            "         2          2\n",
            "2        1         57\n",
            "         2          2\n",
            "3        2         33\n",
            "Name: count, dtype: int64\n",
            "\n",
            "Comparação usando crosstab:\n",
            "cluster   0   1   2   3\n",
            "classe                 \n",
            "1         2   0  57   0\n",
            "2        34   2   2  33\n",
            "3         0  48   0   0\n"
          ]
        }
      ]
    }
  ]
}