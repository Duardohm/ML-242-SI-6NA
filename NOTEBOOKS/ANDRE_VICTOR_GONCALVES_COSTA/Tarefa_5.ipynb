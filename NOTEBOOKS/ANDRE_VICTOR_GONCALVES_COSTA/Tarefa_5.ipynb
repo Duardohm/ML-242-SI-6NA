{
  "nbformat": 4,
  "nbformat_minor": 0,
  "metadata": {
    "colab": {
      "provenance": []
    },
    "kernelspec": {
      "name": "python3",
      "display_name": "Python 3"
    },
    "language_info": {
      "name": "python"
    }
  },
  "cells": [
    {
      "cell_type": "markdown",
      "source": [
        "# Exercício Prático: Clustering com K-Means - Vinhos (UCI)\n",
        "\n",
        "## Objetivo\n",
        "\n",
        "- Neste exercício sobre aprendizagem não supervisionada (agrupamento), você aplicará o algoritmo K-Means no dataset de vinhos da UCI. O objetivo é agrupar os dados em 4 clusters e analisar a distribuição desses clusters em relação às classes originais.\n",
        "\n",
        "## Instruções\n",
        "\n",
        "- Faça a leitura dos dados sobre vinhos da UCI, utilizando o seguinte código:"
      ],
      "metadata": {
        "id": "0cVjePGJY71-"
      }
    },
    {
      "cell_type": "code",
      "execution_count": 1,
      "metadata": {
        "id": "QwYQuT-KdUso"
      },
      "outputs": [],
      "source": [
        "import pandas as pd\n",
        "\n",
        "# URL do dataset Wine\n",
        "url = 'https://archive.ics.uci.edu/ml/machine-learning-databases/wine/wine.data'\n",
        "\n",
        "# Nome das colunas em português BR\n",
        "column_names_pt_br = [\n",
        "    'classe',\n",
        "    'alcool',\n",
        "    'acido_malico',\n",
        "    'cinzas',\n",
        "    'alcalinidade_de_cinzas',\n",
        "    'magnesio',\n",
        "    'fenois_totais',\n",
        "    'flavanoides',\n",
        "    'fenois_nao_flavanoides',\n",
        "    'proantocianinas',\n",
        "    'intensidade_de_cor',\n",
        "    'matiz',\n",
        "    'od280_od315_de_vinhos_diluidos',\n",
        "    'prolina'\n",
        "]\n",
        "\n",
        "# Ler o arquivo CSV com as colunas especificadas, definindo a coluna 'classe' como object\n",
        "vinhos = pd.read_csv(url, names=column_names_pt_br, dtype={'classe': object})"
      ]
    },
    {
      "cell_type": "markdown",
      "source": [
        "# Tarefas\n",
        "\n",
        "## 1. Normalização dos Dados\n",
        "\n",
        "- Realize a reescala linear dos dados para o intervalo (0, 1). Utilize a biblioteca ```MinMaxScaler``` do ```sklearn```. Lembre-se de dropar a coluna ```classe```, pois ela não deve ser utilizada para o agrupamento."
      ],
      "metadata": {
        "id": "C9hplQCjZXpv"
      }
    },
    {
      "cell_type": "code",
      "source": [
        "from sklearn.preprocessing import MinMaxScaler\n",
        "\n",
        "# Dropar a coluna 'classe'\n",
        "X = vinhos.drop('classe', axis=1)\n",
        "\n",
        "# Reescala linear dos dados\n",
        "scaler = MinMaxScaler()\n",
        "X_scaled = scaler.fit_transform(X)"
      ],
      "metadata": {
        "id": "JFZnVWjpmU3V"
      },
      "execution_count": 2,
      "outputs": []
    },
    {
      "cell_type": "markdown",
      "source": [
        "#2. Aplicação do K-Means\n",
        "\n",
        "- Aplique o K-Means para agrupar os dados em 4 clusters. Utilize ```random_state=42``` para garantir a reprodutibilidade dos resultados. Após o treinamento, apresente o valor da inércia do modelo."
      ],
      "metadata": {
        "id": "nYDyMvbZaMA3"
      }
    },
    {
      "cell_type": "code",
      "source": [
        "from sklearn.cluster import KMeans\n",
        "\n",
        "# Aplicar K-Means com 4 clusters\n",
        "kmeans = KMeans(n_clusters=4, random_state=42)\n",
        "vinhos['cluster'] = kmeans.fit_predict(X_scaled)\n",
        "\n",
        "# Apresentar o valor da inércia\n",
        "print(f'Inércia do modelo K-Means: {kmeans.inertia_}')  # Exemplo de como apresentar a inércia"
      ],
      "metadata": {
        "colab": {
          "base_uri": "https://localhost:8080/"
        },
        "id": "-q1lJ32taWZA",
        "outputId": "4aa691c3-9f10-4e46-8133-ff04d292afb8"
      },
      "execution_count": 3,
      "outputs": [
        {
          "output_type": "stream",
          "name": "stdout",
          "text": [
            "Inércia do modelo K-Means: 44.887604580852816\n"
          ]
        }
      ]
    },
    {
      "cell_type": "markdown",
      "source": [
        "#3. Análise dos Clusters\n",
        "\n",
        "- Após a aplicação do K-Means, mostre a distribuição dos clusters na nova coluna que foi criada. Utilize o método ```value_counts()``` para isso:"
      ],
      "metadata": {
        "id": "zS_Sc4VBafLW"
      }
    },
    {
      "cell_type": "code",
      "source": [
        "# Apresentar a contagem dos clusters\n",
        "print(vinhos['cluster'].value_counts())"
      ],
      "metadata": {
        "colab": {
          "base_uri": "https://localhost:8080/"
        },
        "id": "BHgl05DJamRJ",
        "outputId": "5c3b438a-7654-4f55-a28b-47716e76f7c0"
      },
      "execution_count": 4,
      "outputs": [
        {
          "output_type": "stream",
          "name": "stdout",
          "text": [
            "cluster\n",
            "2    59\n",
            "1    50\n",
            "0    36\n",
            "3    33\n",
            "Name: count, dtype: int64\n"
          ]
        }
      ]
    },
    {
      "cell_type": "markdown",
      "source": [
        "#4. Comparação com Classes Originais\n",
        "\n",
        "Compare a distribuição dos clusters obtidos com as classes originais da coluna ```classe```. Utilize o método ```groupby()``` para facilitar essa análise."
      ],
      "metadata": {
        "id": "yoT9sed0auVg"
      }
    },
    {
      "cell_type": "code",
      "source": [
        "# Comparar clusters com as classes originais\n",
        "comparacao = vinhos.groupby('cluster')['classe'].value_counts()\n",
        "print(comparacao )"
      ],
      "metadata": {
        "colab": {
          "base_uri": "https://localhost:8080/"
        },
        "id": "4DAnDZ8Ka3NG",
        "outputId": "9bde203e-714d-4d39-e241-4ef63cfeb725"
      },
      "execution_count": 5,
      "outputs": [
        {
          "output_type": "stream",
          "name": "stdout",
          "text": [
            "cluster  classe\n",
            "0        2         34\n",
            "         1          2\n",
            "1        3         48\n",
            "         2          2\n",
            "2        1         57\n",
            "         2          2\n",
            "3        2         33\n",
            "Name: count, dtype: int64\n"
          ]
        }
      ]
    },
    {
      "cell_type": "markdown",
      "source": [
        "ou de forma alternativa com  ```pd.crosstab```:"
      ],
      "metadata": {
        "id": "GYwr91EMa5PP"
      }
    },
    {
      "cell_type": "code",
      "source": [
        "comparacao = pd.crosstab(vinhos['classe'], vinhos['cluster'])\n",
        "print(comparacao)"
      ],
      "metadata": {
        "colab": {
          "base_uri": "https://localhost:8080/"
        },
        "id": "iX09ap5Ya9MP",
        "outputId": "6ef0e741-44ef-47b7-d1f3-26e53c6bc5f4"
      },
      "execution_count": 6,
      "outputs": [
        {
          "output_type": "stream",
          "name": "stdout",
          "text": [
            "cluster   0   1   2   3\n",
            "classe                 \n",
            "1         2   0  57   0\n",
            "2        34   2   2  33\n",
            "3         0  48   0   0\n"
          ]
        }
      ]
    }
  ]
}