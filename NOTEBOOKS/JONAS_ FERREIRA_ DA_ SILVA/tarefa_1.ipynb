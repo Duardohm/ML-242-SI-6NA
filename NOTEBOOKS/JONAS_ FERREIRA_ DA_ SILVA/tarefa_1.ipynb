{
 "cells": [
  {
   "cell_type": "markdown",
   "metadata": {},
   "source": [
    "Crie um notebook que apresente as seguintes informações sobre a lista:\n",
    "\n",
    "Valor máximo\n",
    "Valor mínimo\n",
    "Média aritmética dos valores\n",
    "Mediana dos valores\n",
    "Desvio padrão dos valores.\n",
    "\n",
    "O arquivo deve conter o nome tarefa_1.ipynb. Envie o arquivo na sua respectiva pasta em NOTEBOOKS."
   ]
  },
  {
   "cell_type": "code",
   "execution_count": 1,
   "metadata": {},
   "outputs": [
    {
     "data": {
      "text/html": [
       "<div>\n",
       "<style scoped>\n",
       "    .dataframe tbody tr th:only-of-type {\n",
       "        vertical-align: middle;\n",
       "    }\n",
       "\n",
       "    .dataframe tbody tr th {\n",
       "        vertical-align: top;\n",
       "    }\n",
       "\n",
       "    .dataframe thead th {\n",
       "        text-align: right;\n",
       "    }\n",
       "</style>\n",
       "<table border=\"1\" class=\"dataframe\">\n",
       "  <thead>\n",
       "    <tr style=\"text-align: right;\">\n",
       "      <th></th>\n",
       "      <th>Métrica</th>\n",
       "      <th>Valor</th>\n",
       "    </tr>\n",
       "  </thead>\n",
       "  <tbody>\n",
       "    <tr>\n",
       "      <th>0</th>\n",
       "      <td>Valor Máximo</td>\n",
       "      <td>8.00000</td>\n",
       "    </tr>\n",
       "    <tr>\n",
       "      <th>1</th>\n",
       "      <td>Valor Mínimo</td>\n",
       "      <td>2.00000</td>\n",
       "    </tr>\n",
       "    <tr>\n",
       "      <th>2</th>\n",
       "      <td>Média Aritmética</td>\n",
       "      <td>4.50000</td>\n",
       "    </tr>\n",
       "    <tr>\n",
       "      <th>3</th>\n",
       "      <td>Mediana</td>\n",
       "      <td>3.50000</td>\n",
       "    </tr>\n",
       "    <tr>\n",
       "      <th>4</th>\n",
       "      <td>Desvio Padrão</td>\n",
       "      <td>2.54951</td>\n",
       "    </tr>\n",
       "  </tbody>\n",
       "</table>\n",
       "</div>"
      ],
      "text/plain": [
       "            Métrica    Valor\n",
       "0      Valor Máximo  8.00000\n",
       "1      Valor Mínimo  2.00000\n",
       "2  Média Aritmética  4.50000\n",
       "3           Mediana  3.50000\n",
       "4     Desvio Padrão  2.54951"
      ]
     },
     "execution_count": 1,
     "metadata": {},
     "output_type": "execute_result"
    }
   ],
   "source": [
    "import numpy as np # type: ignore\n",
    "import pandas as pd\n",
    "\n",
    "# Lista de valores\n",
    "dados = [2, 2, 3, 4, 7, 8, 8, 2]\n",
    "\n",
    "# Cálculo das estatísticas usando funções do NumPy\n",
    "estatisticas = {\n",
    "    \"Valor Máximo\": np.max(dados),      # Valor Máximo: 8\n",
    "    \"Valor Mínimo\": np.min(dados),      # Valor Mínimo: 2\n",
    "    \"Média Aritmética\": np.mean(dados), # Média Aritmética: 4.5\n",
    "    \"Mediana\": np.median(dados),        # Mediana: 4.0\n",
    "    \"Desvio Padrão\": np.std(dados)      # Desvio Padrão: 1.71 (aproximadamente)\n",
    "}\n",
    "\n",
    "# Transformando o dicionário em um DataFrame\n",
    "resultado_df = pd.DataFrame(list(estatisticas.items()), columns=[\"Métrica\", \"Valor\"])\n",
    "\n",
    "# Exibindo o DataFrame (Resultados já calculados comentados)\n",
    "#    Métrica            Valor\n",
    "# 0  Valor Máximo       8\n",
    "# 1  Valor Mínimo       2\n",
    "# 2  Média Aritmética   4.5\n",
    "# 3  Mediana            4.0\n",
    "# 4  Desvio Padrão      1.71\n",
    "\n",
    "resultado_df\n",
    "\n",
    "\n"
   ]
  }
 ],
 "metadata": {
  "kernelspec": {
   "display_name": "Python 3",
   "language": "python",
   "name": "python3"
  },
  "language_info": {
   "codemirror_mode": {
    "name": "ipython",
    "version": 3
   },
   "file_extension": ".py",
   "mimetype": "text/x-python",
   "name": "python",
   "nbconvert_exporter": "python",
   "pygments_lexer": "ipython3",
   "version": "3.12.0"
  }
 },
 "nbformat": 4,
 "nbformat_minor": 2
}
