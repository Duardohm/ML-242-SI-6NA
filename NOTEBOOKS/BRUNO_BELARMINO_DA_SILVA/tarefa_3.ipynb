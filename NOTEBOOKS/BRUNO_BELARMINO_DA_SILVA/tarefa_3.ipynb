{
 "cells": [
  {
   "cell_type": "markdown",
   "metadata": {},
   "source": [
    "# Exercício Prático: Classificação de Vinhos - KNN com Variação de Parâmetros\n",
    "\n",
    "## Objetivo\n",
    "Neste exercício, você irá treinar e avaliar um classificador KNN (K-Nearest Neighbors) para prever a classe de vinhos com base em suas características químicas. O dataset contém informações de diferentes tipos de vinhos e está disponível no UCI Machine Learning Repository. O objetivo é explorar o desempenho do classificador com diferentes valores de ( k ) e diferentes seeds (valores de random_state) para a divisão dos dados em treino e teste.\n",
    "\n",
    "## Instruções\n",
    "Carregamento dos Dados\n",
    "Carregue os dados do dataset de vinhos da UCI utilizando o código abaixo para garantir a consistência dos nomes das colunas e tipos de dados.\n"
   ]
  },
  {
   "cell_type": "markdown",
   "metadata": {},
   "source": [
    "### Importações das bibliotecas "
   ]
  },
  {
   "cell_type": "code",
   "execution_count": 98,
   "metadata": {},
   "outputs": [
    {
     "name": "stdout",
     "output_type": "stream",
     "text": [
      "Defaulting to user installation because normal site-packages is not writeable\n",
      "Requirement already satisfied: scikit-learn in c:\\users\\bruno\\appdata\\local\\packages\\pythonsoftwarefoundation.python.3.12_qbz5n2kfra8p0\\localcache\\local-packages\\python312\\site-packages (1.5.2)\n",
      "Requirement already satisfied: numpy>=1.19.5 in c:\\users\\bruno\\appdata\\local\\packages\\pythonsoftwarefoundation.python.3.12_qbz5n2kfra8p0\\localcache\\local-packages\\python312\\site-packages (from scikit-learn) (2.1.1)\n",
      "Requirement already satisfied: scipy>=1.6.0 in c:\\users\\bruno\\appdata\\local\\packages\\pythonsoftwarefoundation.python.3.12_qbz5n2kfra8p0\\localcache\\local-packages\\python312\\site-packages (from scikit-learn) (1.14.1)\n",
      "Requirement already satisfied: joblib>=1.2.0 in c:\\users\\bruno\\appdata\\local\\packages\\pythonsoftwarefoundation.python.3.12_qbz5n2kfra8p0\\localcache\\local-packages\\python312\\site-packages (from scikit-learn) (1.4.2)\n",
      "Requirement already satisfied: threadpoolctl>=3.1.0 in c:\\users\\bruno\\appdata\\local\\packages\\pythonsoftwarefoundation.python.3.12_qbz5n2kfra8p0\\localcache\\local-packages\\python312\\site-packages (from scikit-learn) (3.5.0)\n",
      "Note: you may need to restart the kernel to use updated packages.\n"
     ]
    },
    {
     "name": "stderr",
     "output_type": "stream",
     "text": [
      "\n",
      "[notice] A new release of pip is available: 24.2 -> 24.3.1\n",
      "[notice] To update, run: C:\\Users\\bruno\\AppData\\Local\\Microsoft\\WindowsApps\\PythonSoftwareFoundation.Python.3.12_qbz5n2kfra8p0\\python.exe -m pip install --upgrade pip\n"
     ]
    }
   ],
   "source": [
    "pip install scikit-learn\n"
   ]
  },
  {
   "cell_type": "code",
   "execution_count": 90,
   "metadata": {},
   "outputs": [],
   "source": [
    "import pandas as pd\n",
    "from sklearn.model_selection import train_test_split\n",
    "from sklearn.neighbors import KNeighborsClassifier\n",
    "from sklearn.metrics import accuracy_score\n"
   ]
  },
  {
   "cell_type": "markdown",
   "metadata": {},
   "source": [
    "### URL do dataset Wine"
   ]
  },
  {
   "cell_type": "code",
   "execution_count": 91,
   "metadata": {},
   "outputs": [],
   "source": [
    "url = 'https://archive.ics.uci.edu/ml/machine-learning-databases/wine/wine.data'"
   ]
  },
  {
   "cell_type": "markdown",
   "metadata": {},
   "source": [
    "### Nome das colunas em português BR\n"
   ]
  },
  {
   "cell_type": "code",
   "execution_count": 92,
   "metadata": {},
   "outputs": [
    {
     "name": "stdout",
     "output_type": "stream",
     "text": [
      "Primeiros 5 dados do dataset:\n",
      "  classe  alcool  acido_malico  cinzas  alcalinidade_de_cinzas  magnesio  \\\n",
      "0      1   14.23          1.71    2.43                    15.6       127   \n",
      "1      1   13.20          1.78    2.14                    11.2       100   \n",
      "2      1   13.16          2.36    2.67                    18.6       101   \n",
      "3      1   14.37          1.95    2.50                    16.8       113   \n",
      "4      1   13.24          2.59    2.87                    21.0       118   \n",
      "\n",
      "   fenois_totais  flavanoides  fenois_nao_flavanoides  proantocianinas  \\\n",
      "0           2.80         3.06                    0.28             2.29   \n",
      "1           2.65         2.76                    0.26             1.28   \n",
      "2           2.80         3.24                    0.30             2.81   \n",
      "3           3.85         3.49                    0.24             2.18   \n",
      "4           2.80         2.69                    0.39             1.82   \n",
      "\n",
      "   intensidade_de_cor  matiz  od280_od315_de_vinhos_diluidos  prolina  \n",
      "0                5.64   1.04                            3.92     1065  \n",
      "1                4.38   1.05                            3.40     1050  \n",
      "2                5.68   1.03                            3.17     1185  \n",
      "3                7.80   0.86                            3.45     1480  \n",
      "4                4.32   1.04                            2.93      735  \n"
     ]
    }
   ],
   "source": [
    "column_names_pt_br = [\n",
    "    'classe',\n",
    "    'alcool',\n",
    "    'acido_malico',\n",
    "    'cinzas',\n",
    "    'alcalinidade_de_cinzas',\n",
    "    'magnesio',\n",
    "    'fenois_totais',\n",
    "    'flavanoides',\n",
    "    'fenois_nao_flavanoides',\n",
    "    'proantocianinas',\n",
    "    'intensidade_de_cor',\n",
    "    'matiz',\n",
    "    'od280_od315_de_vinhos_diluidos',\n",
    "    'prolina'\n",
    "]\n",
    "\n",
    "# Ler o arquivo CSV com as colunas especificadas, definindo a coluna 'classe' como object\n",
    "vinhos = pd.read_csv(url, names=column_names_pt_br, dtype={'classe': object})\n",
    "print(\"Primeiros 5 dados do dataset:\")\n",
    "\n",
    "# Visualizando os primeiros dados do dataset\n",
    "print(vinhos.head())"
   ]
  },
  {
   "cell_type": "markdown",
   "metadata": {},
   "source": [
    "# Tarefas"
   ]
  },
  {
   "cell_type": "markdown",
   "metadata": {},
   "source": [
    "## 1. Separação dos Dados em Treino e Teste\n",
    "\n",
    "Divida o conjunto de dados em treino e teste, utilizando uma proporção de 70% para treino e 30% para teste.\n",
    "\n",
    "Defina random_state=42 para garantir a replicabilidade dos resultados."
   ]
  },
  {
   "cell_type": "code",
   "execution_count": 93,
   "metadata": {},
   "outputs": [],
   "source": [
    "# Separando as variáveis dependentes e independentes\n",
    "X = vinhos.drop(columns=['classe'])\n",
    "y = vinhos['classe']"
   ]
  },
  {
   "cell_type": "code",
   "execution_count": 94,
   "metadata": {},
   "outputs": [],
   "source": [
    "# Divisão em treino e teste (70% treino e 30% teste)\n",
    "\n",
    "X_train, X_test, y_train, y_test = train_test_split(X, y, test_size=0.3, random_state=42)"
   ]
  },
  {
   "cell_type": "markdown",
   "metadata": {},
   "source": [
    "## 2. Treinamento e Avaliação do Classificador KNN\n",
    "\n",
    "Treine um classificador KNN com ( k = 3 ) e avalie sua acurácia no conjunto de teste.\n",
    "\n",
    "Em seguida, treine um segundo classificador KNN com ( k = 5 ) e avalie sua acurácia no conjunto de teste.\n",
    "\n",
    "Apresente (print) o valor de accuracy_score para cada experimento e para cada modelo com ( k = 3 ) e ( k = 5 ).\n",
    "\n",
    "Compare os resultados para identificar qual dos modelos (com ( k = 3 ) ou ( k = 5 )) apresenta melhor desempenho.\n",
    "\n",
    "Dica: Use a biblioteca scikit-learn para implementar e avaliar o modelo, utilizando KNeighborsClassifier para o treinamento e accuracy_score para a avaliação."
   ]
  },
  {
   "cell_type": "code",
   "execution_count": 95,
   "metadata": {},
   "outputs": [
    {
     "name": "stdout",
     "output_type": "stream",
     "text": [
      "Acurácia com k=3 e random_state=42: 0.7407407407407407\n",
      "Acurácia com k=5 e random_state=42: 0.7407407407407407\n"
     ]
    }
   ],
   "source": [
    "# Função para treinar e avaliar o modelo KNN\n",
    "\n",
    "def treinar_avaliar_knn(X_train, X_test, y_train, y_test, k):\n",
    "    \"\"\"\n",
    "    Treina e avalia um classificador KNN.\n",
    "\n",
    "    Parâmetros:\n",
    "    - X_train, X_test: Features de treino e teste\n",
    "    - y_train, y_test: Labels de treino e teste\n",
    "    - k: número de vizinhos (parâmetro do modelo KNN)\n",
    "\n",
    "    Retorna:\n",
    "    - Acurácia do modelo KNN no conjunto de teste\n",
    "    \"\"\"\n",
    "    knn = KNeighborsClassifier(n_neighbors=k)\n",
    "    knn.fit(X_train, y_train)\n",
    "    y_pred = knn.predict(X_test)\n",
    "    return accuracy_score(y_test, y_pred)\n",
    "\n",
    "\n",
    "# Avaliando com k = 3\n",
    "\n",
    "accuracy_k3 = treinar_avaliar_knn(X_train, X_test, y_train, y_test, k=3)\n",
    "print(\"Acurácia com k=3 e random_state=42:\", accuracy_k3)\n",
    "\n",
    "# Avaliando com k = 5\n",
    "\n",
    "accuracy_k5 = treinar_avaliar_knn(X_train, X_test, y_train, y_test, k=5)\n",
    "print(\"Acurácia com k=5 e random_state=42:\", accuracy_k5)"
   ]
  },
  {
   "cell_type": "markdown",
   "metadata": {},
   "source": [
    "## 3. Análise com Diferentes Valores de random_state\n",
    "\n",
    "Repita o procedimento acima (divisão dos dados, treinamento e avaliação dos modelos com ( k = 3 ) e ( k = 5 )) para os seguintes valores de random_state: 17 e 24.\n",
    "\n",
    "Para cada random_state, registre e apresente (print) a acurácia obtida com ( k = 3 ) e ( k = 5 ) e compare os resultados."
   ]
  },
  {
   "cell_type": "code",
   "execution_count": 96,
   "metadata": {},
   "outputs": [
    {
     "name": "stdout",
     "output_type": "stream",
     "text": [
      "Acurácia com k=3 e random_state=17: 0.6481\n"
     ]
    },
    {
     "name": "stdout",
     "output_type": "stream",
     "text": [
      "Acurácia com k=5 e random_state=17: 0.6667\n",
      "Acurácia com k=3 e random_state=24: 0.7407\n",
      "Acurácia com k=5 e random_state=24: 0.6667\n"
     ]
    }
   ],
   "source": [
    "# Lista de random_states e valores de k para o experimento\n",
    "\n",
    "random_states = [17, 24]\n",
    "ks = [3, 5]\n",
    "\n",
    "# Dicionário para armazenar os resultados\n",
    "\n",
    "resultados = {'random_state': [], 'k': [], 'acuracia': []}\n",
    "\n",
    "# Executando o experimento para diferentes random_states e valores de k\n",
    "\n",
    "for state in random_states:\n",
    "    \n",
    "    # Divisão dos dados em treino e teste com a proporção 70/30\n",
    "\n",
    "    X_train, X_test, y_train, y_test = train_test_split(X, y, test_size=0.3, random_state=state)\n",
    "    for k in ks:\n",
    "        \n",
    "        # Calcula a acurácia do modelo para cada combinação de k e random_state\n",
    "\n",
    "        acuracia = treinar_avaliar_knn(X_train, X_test, y_train, y_test, k)\n",
    "        resultados['random_state'].append(state)\n",
    "        resultados['k'].append(k)\n",
    "        resultados['acuracia'].append(acuracia)\n",
    "        print(f\"Acurácia com k={k} e random_state={state}: {acuracia:.4f}\")\n"
   ]
  },
  {
   "cell_type": "markdown",
   "metadata": {},
   "source": [
    "## 4. Comparação Final\n",
    "\n",
    "Ao final, faça uma análise comparativa dos três experimentos, considerando os diferentes valores de random_state e de ( k ).\n",
    "\n",
    "Indique qual configuração de random_state e ( k ) obteve o melhor desempenho geral."
   ]
  },
  {
   "cell_type": "code",
   "execution_count": 97,
   "metadata": {},
   "outputs": [
    {
     "data": {
      "image/png": "[encoded data removed]",
      "text/plain": [
       "<Figure size 1000x600 with 1 Axes>"
      ]
     },
     "metadata": {},
     "output_type": "display_data"
    },
    {
     "name": "stdout",
     "output_type": "stream",
     "text": [
      "\n",
      "Análise Comparativa:\n",
      "A melhor configuração foi com k=3.0 e random_state=24.0, obtendo uma acurácia de 0.7407.\n"
     ]
    }
   ],
   "source": [
    "import matplotlib.pyplot as plt\n",
    "\n",
    "# Gráfico para comparar os resultados de acurácia\n",
    "\n",
    "plt.figure(figsize=(10, 6))\n",
    "for state in random_states:\n",
    "    subset = df_resultados[df_resultados['random_state'] == state]\n",
    "    plt.plot(subset['k'], subset['acuracia'], marker='o', label=f\"random_state={state}\")\n",
    "\n",
    "plt.xlabel(\"Valor de k\")\n",
    "plt.ylabel(\"Acurácia\")\n",
    "plt.title(\"Acurácia do KNN com diferentes valores de k e random_state\")\n",
    "plt.legend()\n",
    "plt.grid(True)\n",
    "plt.show()\n",
    "\n",
    "# Análise comparativa dos resultados\n",
    "\n",
    "melhor_configuracao = df_resultados.loc[df_resultados['acuracia'].idxmax()]\n",
    "print(\"\\nAnálise Comparativa:\")\n",
    "print(f\"A melhor configuração foi com k={melhor_configuracao['k']} e random_state={melhor_configuracao['random_state']}, \"\n",
    "      f\"obtendo uma acurácia de {melhor_configuracao['acuracia']:.4f}.\")\n"
   ]
  }
 ],
 "metadata": {
  "kernelspec": {
   "display_name": "Python 3",
   "language": "python",
   "name": "python3"
  },
  "language_info": {
   "codemirror_mode": {
    "name": "ipython",
    "version": 3
   },
   "file_extension": ".py",
   "mimetype": "text/x-python",
   "name": "python",
   "nbconvert_exporter": "python",
   "pygments_lexer": "ipython3",
   "version": "3.12.7"
  }
 },
 "nbformat": 4,
 "nbformat_minor": 2
}
