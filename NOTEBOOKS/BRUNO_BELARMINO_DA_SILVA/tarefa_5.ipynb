{
 "cells": [
  {
   "cell_type": "markdown",
   "metadata": {},
   "source": [
    "# Exercício Prático: Clustering com K-Means - Vinhos (UCI)\n",
    "\n",
    "## Objetivo\n",
    "\n",
    "Neste exercício sobre aprendizagem não supervisionada (agrupamento), você aplicará o algoritmo K-Means no dataset de vinhos da UCI. O objetivo é agrupar os dados em 4 clusters e analisar a distribuição desses clusters em relação às classes originai"
   ]
  },
  {
   "cell_type": "markdown",
   "metadata": {},
   "source": [
    "## Importações"
   ]
  },
  {
   "cell_type": "code",
   "execution_count": 3,
   "metadata": {},
   "outputs": [],
   "source": [
    "import pandas as pd\n",
    "from sklearn.preprocessing import MinMaxScaler\n",
    "from sklearn.cluster import KMeans"
   ]
  },
  {
   "cell_type": "code",
   "execution_count": 4,
   "metadata": {},
   "outputs": [],
   "source": [
    "# Leitura do dataset Wine da UCI\n",
    "url = 'https://archive.ics.uci.edu/ml/machine-learning-databases/wine/wine.data'\n",
    "column_names_pt_br = [\n",
    "    'classe',\n",
    "    'alcool',\n",
    "    'acido_malico',\n",
    "    'cinzas',\n",
    "    'alcalinidade_de_cinzas',\n",
    "    'magnesio',\n",
    "    'fenois_totais',\n",
    "    'flavanoides',\n",
    "    'fenois_nao_flavanoides',\n",
    "    'proantocianinas',\n",
    "    'intensidade_de_cor',\n",
    "    'matiz',\n",
    "    'od280_od315_de_vinhos_diluidos',\n",
    "    'prolina'\n",
    "]\n",
    "vinhos = pd.read_csv(url, names=column_names_pt_br, dtype={'classe': object})"
   ]
  },
  {
   "cell_type": "markdown",
   "metadata": {},
   "source": [
    "## 1: Normalização dos Dados\n"
   ]
  },
  {
   "cell_type": "code",
   "execution_count": 5,
   "metadata": {},
   "outputs": [],
   "source": [
    "X = vinhos.drop('classe', axis=1)  # Remove a coluna 'classe'\n",
    "scaler = MinMaxScaler()\n",
    "X_scaled = scaler.fit_transform(X)"
   ]
  },
  {
   "cell_type": "markdown",
   "metadata": {},
   "source": [
    "\n",
    "## 2: Aplicação do K-Means"
   ]
  },
  {
   "cell_type": "code",
   "execution_count": 6,
   "metadata": {},
   "outputs": [
    {
     "name": "stdout",
     "output_type": "stream",
     "text": [
      "Inércia do modelo K-Means: 44.88760458085281\n"
     ]
    }
   ],
   "source": [
    "kmeans = KMeans(n_clusters=4, random_state=42)\n",
    "vinhos['cluster'] = kmeans.fit_predict(X_scaled)\n",
    "\n",
    "# Exibir a inércia do modelo\n",
    "print(f'Inércia do modelo K-Means: {kmeans.inertia_}')"
   ]
  },
  {
   "cell_type": "markdown",
   "metadata": {},
   "source": [
    "## 3: Análise dos Clusters"
   ]
  },
  {
   "cell_type": "code",
   "execution_count": 7,
   "metadata": {},
   "outputs": [
    {
     "name": "stdout",
     "output_type": "stream",
     "text": [
      "\n",
      "Distribuição dos Clusters:\n",
      "cluster\n",
      "2    59\n",
      "1    50\n",
      "0    36\n",
      "3    33\n",
      "Name: count, dtype: int64\n"
     ]
    }
   ],
   "source": [
    "cluster_counts = vinhos['cluster'].value_counts()\n",
    "print(\"\\nDistribuição dos Clusters:\")\n",
    "print(cluster_counts)"
   ]
  },
  {
   "cell_type": "markdown",
   "metadata": {},
   "source": [
    "## 4: Comparação com Classes Originais"
   ]
  },
  {
   "cell_type": "code",
   "execution_count": 8,
   "metadata": {},
   "outputs": [
    {
     "name": "stdout",
     "output_type": "stream",
     "text": [
      "\n",
      "Comparação entre Clusters e Classes Originais (groupby):\n",
      "cluster  classe\n",
      "0        2         34\n",
      "         1          2\n",
      "1        3         48\n",
      "         2          2\n",
      "2        1         57\n",
      "         2          2\n",
      "3        2         33\n",
      "Name: count, dtype: int64\n",
      "\n",
      "Comparação entre Clusters e Classes Originais (crosstab):\n",
      "cluster   0   1   2   3\n",
      "classe                 \n",
      "1         2   0  57   0\n",
      "2        34   2   2  33\n",
      "3         0  48   0   0\n"
     ]
    }
   ],
   "source": [
    "comparacao_groupby = vinhos.groupby('cluster')['classe'].value_counts()\n",
    "print(\"\\nComparação entre Clusters e Classes Originais (groupby):\")\n",
    "print(comparacao_groupby)\n",
    "\n",
    "comparacao_crosstab = pd.crosstab(vinhos['classe'], vinhos['cluster'])\n",
    "print(\"\\nComparação entre Clusters e Classes Originais (crosstab):\")\n",
    "print(comparacao_crosstab)"
   ]
  }
 ],
 "metadata": {
  "kernelspec": {
   "display_name": "Python 3",
   "language": "python",
   "name": "python3"
  },
  "language_info": {
   "codemirror_mode": {
    "name": "ipython",
    "version": 3
   },
   "file_extension": ".py",
   "mimetype": "text/x-python",
   "name": "python",
   "nbconvert_exporter": "python",
   "pygments_lexer": "ipython3",
   "version": "3.12.7"
  }
 },
 "nbformat": 4,
 "nbformat_minor": 2
}
