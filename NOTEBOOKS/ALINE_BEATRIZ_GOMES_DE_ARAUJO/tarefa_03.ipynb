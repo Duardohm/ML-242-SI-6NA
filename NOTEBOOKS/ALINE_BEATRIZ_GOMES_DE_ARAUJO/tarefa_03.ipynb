{
 "cells": [
  {
   "cell_type": "code",
   "execution_count": 15,
   "metadata": {},
   "outputs": [],
   "source": [
    "\n",
    "import pandas as pd\n",
    "import numpy as np\n",
    "from sklearn.model_selection import train_test_split\n",
    "from sklearn.neighbors import KNeighborsClassifier\n",
    "from sklearn.metrics import accuracy_score\n",
    "pd.set_option('display.max_columns', None)\n"
   ]
  },
  {
   "cell_type": "code",
   "execution_count": 16,
   "metadata": {},
   "outputs": [
    {
     "data": {
      "text/html": [
       "<div>\n",
       "<style scoped>\n",
       "    .dataframe tbody tr th:only-of-type {\n",
       "        vertical-align: middle;\n",
       "    }\n",
       "\n",
       "    .dataframe tbody tr th {\n",
       "        vertical-align: top;\n",
       "    }\n",
       "\n",
       "    .dataframe thead th {\n",
       "        text-align: right;\n",
       "    }\n",
       "</style>\n",
       "<table border=\"1\" class=\"dataframe\">\n",
       "  <thead>\n",
       "    <tr style=\"text-align: right;\">\n",
       "      <th></th>\n",
       "      <th>classe</th>\n",
       "      <th>alcool</th>\n",
       "      <th>acido_malico</th>\n",
       "      <th>cinzas</th>\n",
       "      <th>alcalinidade_de_cinzas</th>\n",
       "      <th>magnesio</th>\n",
       "      <th>fenois_totais</th>\n",
       "      <th>flavanoides</th>\n",
       "      <th>fenois_nao_flavanoides</th>\n",
       "      <th>proantocianinas</th>\n",
       "      <th>intensidade_de_cor</th>\n",
       "      <th>matiz</th>\n",
       "      <th>od280_od315_de_vinhos_diluidos</th>\n",
       "      <th>prolina</th>\n",
       "    </tr>\n",
       "  </thead>\n",
       "  <tbody>\n",
       "    <tr>\n",
       "      <th>0</th>\n",
       "      <td>1</td>\n",
       "      <td>14.23</td>\n",
       "      <td>1.71</td>\n",
       "      <td>2.43</td>\n",
       "      <td>15.6</td>\n",
       "      <td>127</td>\n",
       "      <td>2.80</td>\n",
       "      <td>3.06</td>\n",
       "      <td>0.28</td>\n",
       "      <td>2.29</td>\n",
       "      <td>5.64</td>\n",
       "      <td>1.04</td>\n",
       "      <td>3.92</td>\n",
       "      <td>1065</td>\n",
       "    </tr>\n",
       "    <tr>\n",
       "      <th>1</th>\n",
       "      <td>1</td>\n",
       "      <td>13.20</td>\n",
       "      <td>1.78</td>\n",
       "      <td>2.14</td>\n",
       "      <td>11.2</td>\n",
       "      <td>100</td>\n",
       "      <td>2.65</td>\n",
       "      <td>2.76</td>\n",
       "      <td>0.26</td>\n",
       "      <td>1.28</td>\n",
       "      <td>4.38</td>\n",
       "      <td>1.05</td>\n",
       "      <td>3.40</td>\n",
       "      <td>1050</td>\n",
       "    </tr>\n",
       "    <tr>\n",
       "      <th>2</th>\n",
       "      <td>1</td>\n",
       "      <td>13.16</td>\n",
       "      <td>2.36</td>\n",
       "      <td>2.67</td>\n",
       "      <td>18.6</td>\n",
       "      <td>101</td>\n",
       "      <td>2.80</td>\n",
       "      <td>3.24</td>\n",
       "      <td>0.30</td>\n",
       "      <td>2.81</td>\n",
       "      <td>5.68</td>\n",
       "      <td>1.03</td>\n",
       "      <td>3.17</td>\n",
       "      <td>1185</td>\n",
       "    </tr>\n",
       "    <tr>\n",
       "      <th>3</th>\n",
       "      <td>1</td>\n",
       "      <td>14.37</td>\n",
       "      <td>1.95</td>\n",
       "      <td>2.50</td>\n",
       "      <td>16.8</td>\n",
       "      <td>113</td>\n",
       "      <td>3.85</td>\n",
       "      <td>3.49</td>\n",
       "      <td>0.24</td>\n",
       "      <td>2.18</td>\n",
       "      <td>7.80</td>\n",
       "      <td>0.86</td>\n",
       "      <td>3.45</td>\n",
       "      <td>1480</td>\n",
       "    </tr>\n",
       "    <tr>\n",
       "      <th>4</th>\n",
       "      <td>1</td>\n",
       "      <td>13.24</td>\n",
       "      <td>2.59</td>\n",
       "      <td>2.87</td>\n",
       "      <td>21.0</td>\n",
       "      <td>118</td>\n",
       "      <td>2.80</td>\n",
       "      <td>2.69</td>\n",
       "      <td>0.39</td>\n",
       "      <td>1.82</td>\n",
       "      <td>4.32</td>\n",
       "      <td>1.04</td>\n",
       "      <td>2.93</td>\n",
       "      <td>735</td>\n",
       "    </tr>\n",
       "  </tbody>\n",
       "</table>\n",
       "</div>"
      ],
      "text/plain": [
       "  classe  alcool  acido_malico  cinzas  alcalinidade_de_cinzas  magnesio  \\\n",
       "0      1   14.23          1.71    2.43                    15.6       127   \n",
       "1      1   13.20          1.78    2.14                    11.2       100   \n",
       "2      1   13.16          2.36    2.67                    18.6       101   \n",
       "3      1   14.37          1.95    2.50                    16.8       113   \n",
       "4      1   13.24          2.59    2.87                    21.0       118   \n",
       "\n",
       "   fenois_totais  flavanoides  fenois_nao_flavanoides  proantocianinas  \\\n",
       "0           2.80         3.06                    0.28             2.29   \n",
       "1           2.65         2.76                    0.26             1.28   \n",
       "2           2.80         3.24                    0.30             2.81   \n",
       "3           3.85         3.49                    0.24             2.18   \n",
       "4           2.80         2.69                    0.39             1.82   \n",
       "\n",
       "   intensidade_de_cor  matiz  od280_od315_de_vinhos_diluidos  prolina  \n",
       "0                5.64   1.04                            3.92     1065  \n",
       "1                4.38   1.05                            3.40     1050  \n",
       "2                5.68   1.03                            3.17     1185  \n",
       "3                7.80   0.86                            3.45     1480  \n",
       "4                4.32   1.04                            2.93      735  "
      ]
     },
     "execution_count": 16,
     "metadata": {},
     "output_type": "execute_result"
    }
   ],
   "source": [
    "\n",
    "url = 'https://archive.ics.uci.edu/ml/machine-learning-databases/wine/wine.data'\n",
    "column_names_pt_br = [\n",
    "    'classe',\n",
    "    'alcool',\n",
    "    'acido_malico',\n",
    "    'cinzas',\n",
    "    'alcalinidade_de_cinzas',\n",
    "    'magnesio',\n",
    "    'fenois_totais',\n",
    "    'flavanoides',\n",
    "    'fenois_nao_flavanoides',\n",
    "    'proantocianinas',\n",
    "    'intensidade_de_cor',\n",
    "    'matiz',\n",
    "    'od280_od315_de_vinhos_diluidos',\n",
    "    'prolina'\n",
    "]\n",
    "\n",
    "vinhos = pd.read_csv(url, names=column_names_pt_br, dtype={'classe': object})\n",
    "\n",
    "vinhos.head()\n"
   ]
  },
  {
   "cell_type": "code",
   "execution_count": 17,
   "metadata": {},
   "outputs": [],
   "source": [
    "def treinar_knn(random_state, k_values):\n",
    "    \"\"\"\n",
    "    Treina e avalia o KNN para diferentes valores de k e random_state.\n",
    "    \"\"\"\n",
    "    X = vinhos.iloc[:, 1:]\n",
    "    y = vinhos['classe']\n",
    "    X_train, X_test, y_train, y_test = train_test_split(\n",
    "        X, y, test_size=0.3, random_state=random_state\n",
    "    )\n",
    "    \n",
    "    resultados = {}\n",
    "    \n",
    "    for k in k_values:\n",
    "        knn = KNeighborsClassifier(n_neighbors=k)\n",
    "        knn.fit(X_train, y_train)\n",
    "        y_pred = knn.predict(X_test)\n",
    "        acc = accuracy_score(y_test, y_pred)\n",
    "        resultados[k] = acc\n",
    "    \n",
    "    return resultados\n"
   ]
  },
  {
   "cell_type": "code",
   "execution_count": 18,
   "metadata": {},
   "outputs": [
    {
     "name": "stdout",
     "output_type": "stream",
     "text": [
      "Acurácias com random_state = 42:\n",
      "k = 3: Accuracy = 0.7407\n",
      "k = 5: Accuracy = 0.7407\n"
     ]
    }
   ],
   "source": [
    "\n",
    "k_values = [3, 5]\n",
    "random_state = 42\n",
    "resultados_42 = treinar_knn(random_state, k_values)\n",
    "print(f\"Acurácias com random_state = {random_state}:\")\n",
    "for k, acc in resultados_42.items():\n",
    "    print(f\"k = {k}: Accuracy = {acc:.4f}\")\n"
   ]
  },
  {
   "cell_type": "code",
   "execution_count": 19,
   "metadata": {},
   "outputs": [
    {
     "name": "stdout",
     "output_type": "stream",
     "text": [
      "\n",
      "Acurácias com random_state = 17:\n",
      "k = 3: Accuracy = 0.6481\n",
      "k = 5: Accuracy = 0.6667\n",
      "\n",
      "Acurácias com random_state = 24:\n",
      "k = 3: Accuracy = 0.7407\n",
      "k = 5: Accuracy = 0.6667\n"
     ]
    }
   ],
   "source": [
    "\n",
    "random_states = [17, 24]\n",
    "resultados_totais = {}\n",
    "\n",
    "for rs in random_states:\n",
    "    resultados_totais[rs] = treinar_knn(rs, k_values)\n",
    "\n",
    "for rs, resultados in resultados_totais.items():\n",
    "    print(f\"\\nAcurácias com random_state = {rs}:\")\n",
    "    for k, acc in resultados.items():\n",
    "        print(f\"k = {k}: Accuracy = {acc:.4f}\")\n"
   ]
  },
  {
   "cell_type": "code",
   "execution_count": 20,
   "metadata": {},
   "outputs": [
    {
     "name": "stdout",
     "output_type": "stream",
     "text": [
      "\n",
      "Melhor configuração encontrada:\n",
      "Random State: 24\n",
      "Valor de k: 3\n",
      "Accuracy: 0.7407\n"
     ]
    }
   ],
   "source": [
    "\n",
    "melhor_config = {\"random_state\": None, \"k\": None, \"accuracy\": 0}\n",
    "\n",
    "for rs, resultados in resultados_totais.items():\n",
    "    for k, acc in resultados.items():\n",
    "        if acc > melhor_config[\"accuracy\"]:\n",
    "            melhor_config = {\"random_state\": rs, \"k\": k, \"accuracy\": acc}\n",
    "\n",
    "print(\"\\nMelhor configuração encontrada:\")\n",
    "print(f\"Random State: {melhor_config['random_state']}\")\n",
    "print(f\"Valor de k: {melhor_config['k']}\")\n",
    "print(f\"Accuracy: {melhor_config['accuracy']:.4f}\")\n"
   ]
  },
  {
   "cell_type": "code",
   "execution_count": 21,
   "metadata": {},
   "outputs": [
    {
     "data": {
      "image/png": "[encoded data removed]",
      "text/plain": [
       "<Figure size 640x480 with 1 Axes>"
      ]
     },
     "metadata": {},
     "output_type": "display_data"
    }
   ],
   "source": [
    "import matplotlib.pyplot as plt\n",
    "for rs, resultados in resultados_totais.items():\n",
    "    plt.plot(k_values, list(resultados.values()), label=f\"random_state = {rs}\")\n",
    "\n",
    "plt.plot(k_values, list(resultados_42.values()), label=\"random_state = 42\", linestyle=\"--\")\n",
    "plt.xlabel('Valor de k')\n",
    "plt.ylabel('Acurácia')\n",
    "plt.title('Comparação de Acurácia para Diferentes random_states e k')\n",
    "plt.legend()\n",
    "plt.grid(True)\n",
    "plt.show()\n"
   ]
  }
 ],
 "metadata": {
  "kernelspec": {
   "display_name": "Python 3",
   "language": "python",
   "name": "python3"
  },
  "language_info": {
   "codemirror_mode": {
    "name": "ipython",
    "version": 3
   },
   "file_extension": ".py",
   "mimetype": "text/x-python",
   "name": "python",
   "nbconvert_exporter": "python",
   "pygments_lexer": "ipython3",
   "version": "3.12.2"
  }
 },
 "nbformat": 4,
 "nbformat_minor": 2
}
