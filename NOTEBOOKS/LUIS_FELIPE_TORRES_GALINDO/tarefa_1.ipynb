{
 "cells": [
  {
   "cell_type": "markdown",
   "id": "83b7f768",
   "metadata": {},
   "source": [
    "# Análise da Lista de Valores"
   ]
  },
  {
   "cell_type": "code",
   "execution_count": 1,
   "id": "3d2c6662",
   "metadata": {},
   "outputs": [
    {
     "name": "stdout",
     "output_type": "stream",
     "text": [
      "Valor máximo: 8\n"
     ]
    }
   ],
   "source": [
    "valores = [4, 6, 3, 4, 5, 8, 4, 2]\n",
    "\n",
    "# Valor máximo\n",
    "valor_maximo = max(valores)\n",
    "print(\"Valor máximo:\", valor_maximo)\n"
   ]
  },
  {
   "cell_type": "code",
   "execution_count": 2,
   "id": "787a2a78",
   "metadata": {},
   "outputs": [
    {
     "name": "stdout",
     "output_type": "stream",
     "text": [
      "Valor mínimo: 2\n"
     ]
    }
   ],
   "source": [
    "# Valor mínimo\n",
    "valor_minimo = min(valores)\n",
    "print(\"Valor mínimo:\", valor_minimo)\n"
   ]
  },
  {
   "cell_type": "code",
   "execution_count": 4,
   "id": "e30878c4",
   "metadata": {},
   "outputs": [
    {
     "name": "stdout",
     "output_type": "stream",
     "text": [
      "Média aritmética: 4.5\n"
     ]
    }
   ],
   "source": [
    "# Média aritmética dos valores\n",
    "import numpy as np\n",
    "media = np.mean(valores)\n",
    "print(\"Média aritmética:\", media)\n"
   ]
  },
  {
   "cell_type": "code",
   "execution_count": 5,
   "id": "8c935bd8",
   "metadata": {},
   "outputs": [
    {
     "name": "stdout",
     "output_type": "stream",
     "text": [
      "Mediana: 4.0\n"
     ]
    }
   ],
   "source": [
    "# Mediana dos valores\n",
    "mediana = np.median(valores)\n",
    "print(\"Mediana:\", mediana)\n"
   ]
  },
  {
   "cell_type": "code",
   "execution_count": 6,
   "id": "5a1dfadd",
   "metadata": {},
   "outputs": [
    {
     "name": "stdout",
     "output_type": "stream",
     "text": [
      "Desvio padrão: 1.7320508075688772\n"
     ]
    }
   ],
   "source": [
    "# Desvio padrão dos valores\n",
    "desvio_padrao = np.std(valores)\n",
    "print(\"Desvio padrão:\", desvio_padrao)\n"
   ]
  }
 ],
 "metadata": {
  "kernelspec": {
   "display_name": "Python 3",
   "language": "python",
   "name": "python3"
  },
  "language_info": {
   "codemirror_mode": {
    "name": "ipython",
    "version": 3
   },
   "file_extension": ".py",
   "mimetype": "text/x-python",
   "name": "python",
   "nbconvert_exporter": "python",
   "pygments_lexer": "ipython3",
   "version": "3.11.2"
  }
 },
 "nbformat": 4,
 "nbformat_minor": 5
}
