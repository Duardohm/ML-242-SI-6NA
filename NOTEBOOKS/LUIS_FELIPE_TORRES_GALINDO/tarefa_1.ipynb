{
 "cells": [
  {
   "cell_type": "markdown",
   "id": "83b7f768",
   "metadata": {},
   "source": [
    "# Análise da Lista de Valores"
   ]
  },
  {
   "cell_type": "code",
   "execution_count": null,
   "id": "3d2c6662",
   "metadata": {},
   "outputs": [],
   "source": [
    "valores = [4, 6, 3, 4, 5, 8, 4, 2]\n",
    "\n",
    "# Valor máximo\n",
    "valor_maximo = max(valores)\n",
    "print(\"Valor máximo:\", valor_maximo)\n"
   ]
  },
  {
   "cell_type": "code",
   "execution_count": null,
   "id": "787a2a78",
   "metadata": {},
   "outputs": [],
   "source": [
    "# Valor mínimo\n",
    "valor_minimo = min(valores)\n",
    "print(\"Valor mínimo:\", valor_minimo)\n"
   ]
  },
  {
   "cell_type": "code",
   "execution_count": null,
   "id": "e30878c4",
   "metadata": {},
   "outputs": [],
   "source": [
    "# Média aritmética dos valores\n",
    "import numpy as np\n",
    "media = np.mean(valores)\n",
    "print(\"Média aritmética:\", media)\n"
   ]
  },
  {
   "cell_type": "code",
   "execution_count": null,
   "id": "8c935bd8",
   "metadata": {},
   "outputs": [],
   "source": [
    "# Mediana dos valores\n",
    "mediana = np.median(valores)\n",
    "print(\"Mediana:\", mediana)\n"
   ]
  },
  {
   "cell_type": "code",
   "execution_count": null,
   "id": "5a1dfadd",
   "metadata": {},
   "outputs": [],
   "source": [
    "# Desvio padrão dos valores\n",
    "desvio_padrao = np.std(valores)\n",
    "print(\"Desvio padrão:\", desvio_padrao)\n"
   ]
  }
 ],
 "metadata": {},
 "nbformat": 4,
 "nbformat_minor": 5
}
