{
  "nbformat": 4,
  "nbformat_minor": 0,
  "metadata": {
    "colab": {
      "provenance": []
    },
    "kernelspec": {
      "name": "python3",
      "display_name": "Python 3"
    },
    "language_info": {
      "name": "python"
    }
  },
  "cells": [
    {
      "cell_type": "code",
      "execution_count": 11,
      "metadata": {
        "colab": {
          "base_uri": "https://localhost:8080/",
          "height": 998
        },
        "id": "NPM6ULTyH3ot",
        "outputId": "e3e6003b-e1d4-4e61-90c1-8d5a41f67de8"
      },
      "outputs": [
        {
          "output_type": "stream",
          "name": "stdout",
          "text": [
            "1. Inércia do Modelo K-Means:\n",
            "Inércia: 44.887604580852816\n",
            "\n",
            "2. Distribuição dos Clusters:\n",
            "cluster\n",
            "2    59\n",
            "1    50\n",
            "0    36\n",
            "3    33\n",
            "Name: count, dtype: int64\n",
            "\n",
            "3. Comparação de Clusters com Classes Originais:\n",
            "cluster   0   1   2   3\n",
            "classe                 \n",
            "1         2   0  57   0\n",
            "2        34   2   2  33\n",
            "3         0  48   0   0\n",
            "\n"
          ]
        },
        {
          "output_type": "display_data",
          "data": {
            "text/plain": [
              "<Figure size 1000x600 with 1 Axes>"
            ],
            "image/png": "[encoded data removed]"
          },
          "metadata": {}
        },
        {
          "output_type": "stream",
          "name": "stdout",
          "text": [
            "4. Análise de Pureza dos Clusters:\n",
            "Cluster 0: 94.44%\n",
            "Cluster 1: 96.00%\n",
            "Cluster 2: 96.61%\n",
            "Cluster 3: 100.00%\n",
            "\n",
            "Pureza Média: 96.76%\n"
          ]
        }
      ],
      "source": [
        "import pandas as pd\n",
        "import numpy as np\n",
        "from sklearn.preprocessing import MinMaxScaler\n",
        "from sklearn.cluster import KMeans\n",
        "import matplotlib.pyplot as plt\n",
        "import seaborn as sns\n",
        "\n",
        "# URL do dataset Wine\n",
        "url = 'https://archive.ics.uci.edu/ml/machine-learning-databases/wine/wine.data'\n",
        "\n",
        "# Nome das colunas em português BR\n",
        "column_names_pt_br = [\n",
        "    'classe',\n",
        "    'alcool',\n",
        "    'acido_malico',\n",
        "    'cinzas',\n",
        "    'alcalinidade_de_cinzas',\n",
        "    'magnesio',\n",
        "    'fenois_totais',\n",
        "    'flavanoides',\n",
        "    'fenois_nao_flavanoides',\n",
        "    'proantocianinas',\n",
        "    'intensidade_de_cor',\n",
        "    'matiz',\n",
        "    'od280_od315_de_vinhos_diluidos',\n",
        "    'prolina'\n",
        "]\n",
        "\n",
        "# Ler o arquivo CSV com as colunas especificadas\n",
        "vinhos = pd.read_csv(url, names=column_names_pt_br, dtype={'classe': object})\n",
        "\n",
        "# 1. Normalização dos Dados\n",
        "# Dropar a coluna 'classe'\n",
        "X = vinhos.drop('classe', axis=1)\n",
        "\n",
        "# Reescala linear dos dados\n",
        "scaler = MinMaxScaler()\n",
        "X_scaled = scaler.fit_transform(X)\n",
        "\n",
        "# 2. Aplicação do K-Means\n",
        "# Aplicar K-Means com 4 clusters\n",
        "kmeans = KMeans(n_clusters=4, random_state=42)\n",
        "vinhos['cluster'] = kmeans.fit_predict(X_scaled)\n",
        "\n",
        "# Apresentar o valor da inércia\n",
        "print(\"1. Inércia do Modelo K-Means:\")\n",
        "print(f'Inércia: {kmeans.inertia_}\\n')\n",
        "\n",
        "# 3. Análise dos Clusters\n",
        "print(\"2. Distribuição dos Clusters:\")\n",
        "print(vinhos['cluster'].value_counts())\n",
        "print()\n",
        "\n",
        "# 4. Comparação com Classes Originais\n",
        "print(\"3. Comparação de Clusters com Classes Originais:\")\n",
        "comparacao = pd.crosstab(vinhos['classe'], vinhos['cluster'])\n",
        "print(comparacao)\n",
        "print()\n",
        "\n",
        "# Visualização Adicional: Análise de Distribuição\n",
        "plt.figure(figsize=(10, 6))\n",
        "sns.countplot(x='cluster', hue='classe', data=vinhos)\n",
        "plt.title('Distribuição de Clusters por Classe')\n",
        "plt.xlabel('Cluster')\n",
        "plt.ylabel('Contagem')\n",
        "plt.show()\n",
        "\n",
        "# Análise de Pureza dos Clusters\n",
        "def calcular_pureza(comparacao):\n",
        "    pureza_clusters = []\n",
        "    total_instancias = comparacao.sum().sum()\n",
        "\n",
        "    for cluster in comparacao.columns:\n",
        "        cluster_data = comparacao[cluster]\n",
        "        max_classe = cluster_data.max()\n",
        "        pureza = max_classe / cluster_data.sum()\n",
        "        pureza_clusters.append(pureza)\n",
        "\n",
        "    pureza_media = np.mean(pureza_clusters)\n",
        "\n",
        "    print(\"4. Análise de Pureza dos Clusters:\")\n",
        "    for i, pureza in enumerate(pureza_clusters):\n",
        "        print(f\"Cluster {i}: {pureza:.2%}\")\n",
        "    print(f\"\\nPureza Média: {pureza_media:.2%}\")\n",
        "\n",
        "calcular_pureza(comparacao)"
      ]
    }
  ]
}